{
 "cells": [
  {
   "cell_type": "code",
   "execution_count": 1,
   "metadata": {
    "executionInfo": {
     "elapsed": 2050,
     "status": "ok",
     "timestamp": 1607577588681,
     "user": {
      "displayName": "Sagar Mehta",
      "photoUrl": "",
      "userId": "03087367859835477034"
     },
     "user_tz": 300
    },
    "id": "drmM4m43wtFO"
   },
   "outputs": [],
   "source": [
    "import pandas as pd\n",
    "import numpy as np\n",
    "import matplotlib.pyplot as plt\n",
    "import seaborn as sns\n",
    "import matplotlib.ticker as ticker\n",
    "\n",
    "from sklearn.neural_network import MLPClassifier,MLPRegressor\n",
    "from sklearn.metrics import classification_report,confusion_matrix\n",
    "from sklearn.model_selection import cross_val_score"
   ]
  },
  {
   "cell_type": "markdown",
   "metadata": {
    "id": "u-wIma-RwtFQ"
   },
   "source": [
    "### Read Data"
   ]
  },
  {
   "cell_type": "code",
   "execution_count": 3,
   "metadata": {
    "colab": {
     "base_uri": "https://localhost:8080/"
    },
    "executionInfo": {
     "elapsed": 42482,
     "status": "ok",
     "timestamp": 1607577629131,
     "user": {
      "displayName": "Sagar Mehta",
      "photoUrl": "",
      "userId": "03087367859835477034"
     },
     "user_tz": 300
    },
    "id": "MsipQh16wtFR",
    "outputId": "b95b7c75-d0d8-4054-9b44-8efe5d4b8515"
   },
   "outputs": [],
   "source": [
    "data_path = 'RfqAssignmentData.xlsx'\n",
    "train = pd.read_excel(data_path,sheet_name=\"RfqTrainingData\",index_col=\"Time\")\n",
    "test = pd.read_excel(data_path,sheet_name=\"OutOfSampleData\",index_col=\"Time\")\n",
    "competition = pd.read_excel(data_path,sheet_name=\"CompetitionData\",index_col=\"Time\")"
   ]
  },
  {
   "cell_type": "markdown",
   "metadata": {
    "id": "OXqFVhJSwtFT"
   },
   "source": [
    "### Clean and Prepare the Data\n",
    "Split = 0 (use entire dataset on model)  \n",
    "Split = 1 (split between bid and offer sides; 2 total datasets)  \n",
    "Split = 2 (split between bid and offer sides for each bond; 6 total datasets)"
   ]
  },
  {
   "cell_type": "code",
   "execution_count": 4,
   "metadata": {
    "executionInfo": {
     "elapsed": 42480,
     "status": "ok",
     "timestamp": 1607577629132,
     "user": {
      "displayName": "Sagar Mehta",
      "photoUrl": "",
      "userId": "03087367859835477034"
     },
     "user_tz": 300
    },
    "id": "ggksPFvqwtFU"
   },
   "outputs": [],
   "source": [
    "def clean(df,features,split=0,part=1,show_PL = False):\n",
    "    df = df.copy()\n",
    "    df.Counterparty = pd.to_numeric(df.Counterparty.str.extract('(\\d+)')[0])\n",
    "    df.Traded = df.Traded.map({\"MISSED\":0,\"DONE\":1})\n",
    "    df.Side = df.Side.map({\"Offer\":1,\"Bid\":-1})\n",
    "    df[\"Diff\"] = (df.QuotedPrice/df.MidPrice-1)*df.Side\n",
    "    df[\"CP0\"] = 0+(df[\"Counterparty\"]==0)\n",
    "    df[\"CP1\"] = 0+(df[\"Counterparty\"]==1)\n",
    "    df[\"CP2\"] = 0+(df[\"Counterparty\"]==2)\n",
    "    df[\"CP3\"] = 0+(df[\"Counterparty\"]==3)\n",
    "    df.Bond = pd.to_numeric(df.Bond.str.extract('(\\d+)')[0])\n",
    "    df[\"Bond0\"] = 0+(df[\"Bond\"]==0)\n",
    "    df[\"Bond1\"] = 0+(df[\"Bond\"]==1)\n",
    "    df[\"Bond2\"] = 0+(df[\"Bond\"]==2)\n",
    "    \n",
    "    if part == 2:\n",
    "      if show_PL == True:\n",
    "        df[\"Return\"] = np.sign(df.NextMidPrice-df.QuotedPrice)\n",
    "        df[\"Success\"] = df[\"Traded\"] * df.Return.map({-1:1,1:2,0:2})  \n",
    "        \n",
    "        return df[features+[\"Traded\",\"Return\",\"Success\"]+[\"PL\"]]\n",
    "      else:\n",
    "        df[\"Return\"] = np.sign(df.NextMidPrice-df.QuotedPrice)\n",
    "        df[\"Success\"] = df[\"Traded\"] * df.Return.map({-1:1,1:2,0:2})  \n",
    "        \n",
    "        return df[features+[\"Traded\",\"Return\",\"Success\"]]\n",
    "    \n",
    "    if split==2:\n",
    "        offer = []\n",
    "        bid = []\n",
    "        for i in range(2):\n",
    "            temp = df[df.Bond==i].copy()\n",
    "            temp = temp[[\"Side\",\"Notional\",\"Counterparty\",\"Diff\",\"Competitors\",\"Traded\"]]\n",
    "            offer.append(temp[temp.Side==1].drop(columns=[\"Side\"]).copy())\n",
    "            bid.append(temp[temp.Side==-1].drop(columns=[\"Side\"]).copy())\n",
    "        return bid, offer\n",
    "    elif split==1:\n",
    "        temp = df[df.Bond==i].copy()\n",
    "        temp = temp[[\"Side\",\"Notional\",\"Counterparty\",\"Diff\",\"Competitors\",\"Traded\"]]\n",
    "        offer = temp[temp.Side==1].drop(columns=[\"Side\"]).copy()\n",
    "        bid = temp[temp.Side==-1].drop(columns=[\"Side\"]).copy()\n",
    "        return bid, offer\n",
    "    else:\n",
    "        return df[features+[\"Traded\"]]"
   ]
  },
  {
   "cell_type": "code",
   "execution_count": 5,
   "metadata": {
    "colab": {
     "base_uri": "https://localhost:8080/",
     "height": 284
    },
    "executionInfo": {
     "elapsed": 42470,
     "status": "ok",
     "timestamp": 1607577629132,
     "user": {
      "displayName": "Sagar Mehta",
      "photoUrl": "",
      "userId": "03087367859835477034"
     },
     "user_tz": 300
    },
    "id": "AiqZf8dqwtFW",
    "outputId": "ed4a5045-30e6-4927-b5a1-bdd23a2e1741"
   },
   "outputs": [
    {
     "data": {
      "text/html": [
       "<div>\n",
       "<style scoped>\n",
       "    .dataframe tbody tr th:only-of-type {\n",
       "        vertical-align: middle;\n",
       "    }\n",
       "\n",
       "    .dataframe tbody tr th {\n",
       "        vertical-align: top;\n",
       "    }\n",
       "\n",
       "    .dataframe thead th {\n",
       "        text-align: right;\n",
       "    }\n",
       "</style>\n",
       "<table border=\"1\" class=\"dataframe\">\n",
       "  <thead>\n",
       "    <tr style=\"text-align: right;\">\n",
       "      <th></th>\n",
       "      <th>Bond0</th>\n",
       "      <th>Bond1</th>\n",
       "      <th>Bond2</th>\n",
       "      <th>Side</th>\n",
       "      <th>Diff</th>\n",
       "      <th>Notional</th>\n",
       "      <th>Competitors</th>\n",
       "      <th>CP0</th>\n",
       "      <th>CP1</th>\n",
       "      <th>CP2</th>\n",
       "      <th>CP3</th>\n",
       "      <th>Traded</th>\n",
       "    </tr>\n",
       "  </thead>\n",
       "  <tbody>\n",
       "    <tr>\n",
       "      <th>count</th>\n",
       "      <td>5000.000000</td>\n",
       "      <td>5000.000000</td>\n",
       "      <td>5000.00000</td>\n",
       "      <td>5000.000000</td>\n",
       "      <td>5000.000000</td>\n",
       "      <td>5000.00000</td>\n",
       "      <td>5000.000000</td>\n",
       "      <td>5000.000000</td>\n",
       "      <td>5000.000000</td>\n",
       "      <td>5000.000000</td>\n",
       "      <td>5000.000000</td>\n",
       "      <td>5000.000000</td>\n",
       "    </tr>\n",
       "    <tr>\n",
       "      <th>mean</th>\n",
       "      <td>0.497800</td>\n",
       "      <td>0.101000</td>\n",
       "      <td>0.40120</td>\n",
       "      <td>0.029200</td>\n",
       "      <td>0.040942</td>\n",
       "      <td>0.15781</td>\n",
       "      <td>0.624150</td>\n",
       "      <td>0.204200</td>\n",
       "      <td>0.300800</td>\n",
       "      <td>0.049400</td>\n",
       "      <td>0.445600</td>\n",
       "      <td>0.518200</td>\n",
       "    </tr>\n",
       "    <tr>\n",
       "      <th>std</th>\n",
       "      <td>0.500045</td>\n",
       "      <td>0.301359</td>\n",
       "      <td>0.49019</td>\n",
       "      <td>0.999674</td>\n",
       "      <td>0.047085</td>\n",
       "      <td>0.35411</td>\n",
       "      <td>0.279401</td>\n",
       "      <td>0.403156</td>\n",
       "      <td>0.458652</td>\n",
       "      <td>0.216723</td>\n",
       "      <td>0.497082</td>\n",
       "      <td>0.499719</td>\n",
       "    </tr>\n",
       "    <tr>\n",
       "      <th>min</th>\n",
       "      <td>0.000000</td>\n",
       "      <td>0.000000</td>\n",
       "      <td>0.00000</td>\n",
       "      <td>-1.000000</td>\n",
       "      <td>0.000000</td>\n",
       "      <td>0.00010</td>\n",
       "      <td>0.250000</td>\n",
       "      <td>0.000000</td>\n",
       "      <td>0.000000</td>\n",
       "      <td>0.000000</td>\n",
       "      <td>0.000000</td>\n",
       "      <td>0.000000</td>\n",
       "    </tr>\n",
       "    <tr>\n",
       "      <th>25%</th>\n",
       "      <td>0.000000</td>\n",
       "      <td>0.000000</td>\n",
       "      <td>0.00000</td>\n",
       "      <td>-1.000000</td>\n",
       "      <td>0.012122</td>\n",
       "      <td>0.00010</td>\n",
       "      <td>0.250000</td>\n",
       "      <td>0.000000</td>\n",
       "      <td>0.000000</td>\n",
       "      <td>0.000000</td>\n",
       "      <td>0.000000</td>\n",
       "      <td>0.000000</td>\n",
       "    </tr>\n",
       "    <tr>\n",
       "      <th>50%</th>\n",
       "      <td>0.000000</td>\n",
       "      <td>0.000000</td>\n",
       "      <td>0.00000</td>\n",
       "      <td>1.000000</td>\n",
       "      <td>0.027955</td>\n",
       "      <td>0.00010</td>\n",
       "      <td>0.750000</td>\n",
       "      <td>0.000000</td>\n",
       "      <td>0.000000</td>\n",
       "      <td>0.000000</td>\n",
       "      <td>0.000000</td>\n",
       "      <td>1.000000</td>\n",
       "    </tr>\n",
       "    <tr>\n",
       "      <th>75%</th>\n",
       "      <td>1.000000</td>\n",
       "      <td>0.000000</td>\n",
       "      <td>1.00000</td>\n",
       "      <td>1.000000</td>\n",
       "      <td>0.052287</td>\n",
       "      <td>0.00200</td>\n",
       "      <td>0.750000</td>\n",
       "      <td>0.000000</td>\n",
       "      <td>1.000000</td>\n",
       "      <td>0.000000</td>\n",
       "      <td>1.000000</td>\n",
       "      <td>1.000000</td>\n",
       "    </tr>\n",
       "    <tr>\n",
       "      <th>max</th>\n",
       "      <td>1.000000</td>\n",
       "      <td>1.000000</td>\n",
       "      <td>1.00000</td>\n",
       "      <td>1.000000</td>\n",
       "      <td>1.000000</td>\n",
       "      <td>1.00000</td>\n",
       "      <td>1.000000</td>\n",
       "      <td>1.000000</td>\n",
       "      <td>1.000000</td>\n",
       "      <td>1.000000</td>\n",
       "      <td>1.000000</td>\n",
       "      <td>1.000000</td>\n",
       "    </tr>\n",
       "  </tbody>\n",
       "</table>\n",
       "</div>"
      ],
      "text/plain": [
       "             Bond0        Bond1       Bond2         Side         Diff  \\\n",
       "count  5000.000000  5000.000000  5000.00000  5000.000000  5000.000000   \n",
       "mean      0.497800     0.101000     0.40120     0.029200     0.040942   \n",
       "std       0.500045     0.301359     0.49019     0.999674     0.047085   \n",
       "min       0.000000     0.000000     0.00000    -1.000000     0.000000   \n",
       "25%       0.000000     0.000000     0.00000    -1.000000     0.012122   \n",
       "50%       0.000000     0.000000     0.00000     1.000000     0.027955   \n",
       "75%       1.000000     0.000000     1.00000     1.000000     0.052287   \n",
       "max       1.000000     1.000000     1.00000     1.000000     1.000000   \n",
       "\n",
       "         Notional  Competitors          CP0          CP1          CP2  \\\n",
       "count  5000.00000  5000.000000  5000.000000  5000.000000  5000.000000   \n",
       "mean      0.15781     0.624150     0.204200     0.300800     0.049400   \n",
       "std       0.35411     0.279401     0.403156     0.458652     0.216723   \n",
       "min       0.00010     0.250000     0.000000     0.000000     0.000000   \n",
       "25%       0.00010     0.250000     0.000000     0.000000     0.000000   \n",
       "50%       0.00010     0.750000     0.000000     0.000000     0.000000   \n",
       "75%       0.00200     0.750000     0.000000     1.000000     0.000000   \n",
       "max       1.00000     1.000000     1.000000     1.000000     1.000000   \n",
       "\n",
       "               CP3       Traded  \n",
       "count  5000.000000  5000.000000  \n",
       "mean      0.445600     0.518200  \n",
       "std       0.497082     0.499719  \n",
       "min       0.000000     0.000000  \n",
       "25%       0.000000     0.000000  \n",
       "50%       0.000000     1.000000  \n",
       "75%       1.000000     1.000000  \n",
       "max       1.000000     1.000000  "
      ]
     },
     "execution_count": 5,
     "metadata": {},
     "output_type": "execute_result"
    }
   ],
   "source": [
    "features = [\"Bond0\",\"Bond1\",\"Bond2\",\"Side\",\"Diff\",\"Notional\",\"Competitors\",\"CP0\",\"CP1\",\"CP2\",\"CP3\"]\n",
    "df = clean(train,features)\n",
    "normalize_ratio = df[features].max()\n",
    "# Run the line below if we want to normalize the features\n",
    "# Otherwise, comment out the line so that the features are kept original\n",
    "df[features] = df[features]/normalize_ratio\n",
    "df.describe()"
   ]
  },
  {
   "cell_type": "code",
   "execution_count": 6,
   "metadata": {
    "colab": {
     "base_uri": "https://localhost:8080/",
     "height": 225
    },
    "executionInfo": {
     "elapsed": 42460,
     "status": "ok",
     "timestamp": 1607577629133,
     "user": {
      "displayName": "Sagar Mehta",
      "photoUrl": "",
      "userId": "03087367859835477034"
     },
     "user_tz": 300
    },
    "id": "q4Rgbwu-wtFa",
    "outputId": "06aa1e42-7cea-4e32-fbee-1fe9cc3e4cf7"
   },
   "outputs": [
    {
     "data": {
      "text/html": [
       "<div>\n",
       "<style scoped>\n",
       "    .dataframe tbody tr th:only-of-type {\n",
       "        vertical-align: middle;\n",
       "    }\n",
       "\n",
       "    .dataframe tbody tr th {\n",
       "        vertical-align: top;\n",
       "    }\n",
       "\n",
       "    .dataframe thead th {\n",
       "        text-align: right;\n",
       "    }\n",
       "</style>\n",
       "<table border=\"1\" class=\"dataframe\">\n",
       "  <thead>\n",
       "    <tr style=\"text-align: right;\">\n",
       "      <th></th>\n",
       "      <th>Bond0</th>\n",
       "      <th>Bond1</th>\n",
       "      <th>Bond2</th>\n",
       "      <th>Side</th>\n",
       "      <th>Diff</th>\n",
       "      <th>Notional</th>\n",
       "      <th>Competitors</th>\n",
       "      <th>CP0</th>\n",
       "      <th>CP1</th>\n",
       "      <th>CP2</th>\n",
       "      <th>CP3</th>\n",
       "      <th>Traded</th>\n",
       "    </tr>\n",
       "    <tr>\n",
       "      <th>Time</th>\n",
       "      <th></th>\n",
       "      <th></th>\n",
       "      <th></th>\n",
       "      <th></th>\n",
       "      <th></th>\n",
       "      <th></th>\n",
       "      <th></th>\n",
       "      <th></th>\n",
       "      <th></th>\n",
       "      <th></th>\n",
       "      <th></th>\n",
       "      <th></th>\n",
       "    </tr>\n",
       "  </thead>\n",
       "  <tbody>\n",
       "    <tr>\n",
       "      <th>30000</th>\n",
       "      <td>1.0</td>\n",
       "      <td>0.0</td>\n",
       "      <td>0.0</td>\n",
       "      <td>-1.0</td>\n",
       "      <td>0.016701</td>\n",
       "      <td>0.0001</td>\n",
       "      <td>0.25</td>\n",
       "      <td>0.0</td>\n",
       "      <td>1.0</td>\n",
       "      <td>0.0</td>\n",
       "      <td>0.0</td>\n",
       "      <td>0</td>\n",
       "    </tr>\n",
       "    <tr>\n",
       "      <th>30001</th>\n",
       "      <td>1.0</td>\n",
       "      <td>0.0</td>\n",
       "      <td>0.0</td>\n",
       "      <td>1.0</td>\n",
       "      <td>0.011139</td>\n",
       "      <td>0.0001</td>\n",
       "      <td>0.25</td>\n",
       "      <td>0.0</td>\n",
       "      <td>0.0</td>\n",
       "      <td>0.0</td>\n",
       "      <td>1.0</td>\n",
       "      <td>1</td>\n",
       "    </tr>\n",
       "    <tr>\n",
       "      <th>30002</th>\n",
       "      <td>0.0</td>\n",
       "      <td>0.0</td>\n",
       "      <td>1.0</td>\n",
       "      <td>-1.0</td>\n",
       "      <td>0.009415</td>\n",
       "      <td>0.0170</td>\n",
       "      <td>0.50</td>\n",
       "      <td>0.0</td>\n",
       "      <td>1.0</td>\n",
       "      <td>0.0</td>\n",
       "      <td>0.0</td>\n",
       "      <td>1</td>\n",
       "    </tr>\n",
       "    <tr>\n",
       "      <th>30003</th>\n",
       "      <td>0.0</td>\n",
       "      <td>0.0</td>\n",
       "      <td>1.0</td>\n",
       "      <td>-1.0</td>\n",
       "      <td>0.009418</td>\n",
       "      <td>0.0001</td>\n",
       "      <td>1.00</td>\n",
       "      <td>0.0</td>\n",
       "      <td>0.0</td>\n",
       "      <td>0.0</td>\n",
       "      <td>1.0</td>\n",
       "      <td>1</td>\n",
       "    </tr>\n",
       "    <tr>\n",
       "      <th>30004</th>\n",
       "      <td>0.0</td>\n",
       "      <td>0.0</td>\n",
       "      <td>1.0</td>\n",
       "      <td>1.0</td>\n",
       "      <td>0.047066</td>\n",
       "      <td>1.0000</td>\n",
       "      <td>0.75</td>\n",
       "      <td>0.0</td>\n",
       "      <td>1.0</td>\n",
       "      <td>0.0</td>\n",
       "      <td>0.0</td>\n",
       "      <td>0</td>\n",
       "    </tr>\n",
       "  </tbody>\n",
       "</table>\n",
       "</div>"
      ],
      "text/plain": [
       "       Bond0  Bond1  Bond2  Side      Diff  Notional  Competitors  CP0  CP1  \\\n",
       "Time                                                                          \n",
       "30000    1.0    0.0    0.0  -1.0  0.016701    0.0001         0.25  0.0  1.0   \n",
       "30001    1.0    0.0    0.0   1.0  0.011139    0.0001         0.25  0.0  0.0   \n",
       "30002    0.0    0.0    1.0  -1.0  0.009415    0.0170         0.50  0.0  1.0   \n",
       "30003    0.0    0.0    1.0  -1.0  0.009418    0.0001         1.00  0.0  0.0   \n",
       "30004    0.0    0.0    1.0   1.0  0.047066    1.0000         0.75  0.0  1.0   \n",
       "\n",
       "       CP2  CP3  Traded  \n",
       "Time                     \n",
       "30000  0.0  0.0       0  \n",
       "30001  0.0  1.0       1  \n",
       "30002  0.0  0.0       1  \n",
       "30003  0.0  1.0       1  \n",
       "30004  0.0  0.0       0  "
      ]
     },
     "execution_count": 6,
     "metadata": {},
     "output_type": "execute_result"
    }
   ],
   "source": [
    "df_test = clean(test,features)\n",
    "# Run the line below if we want to normalize the features\n",
    "# Otherwise, comment out the line so that the features are kept original\n",
    "df_test[features] = df_test[features]/normalize_ratio\n",
    "df_test.head()"
   ]
  },
  {
   "cell_type": "markdown",
   "metadata": {
    "id": "4ISFo7tewtFc"
   },
   "source": [
    "### Put Training and Test Data into Array Format for Scikit Learn"
   ]
  },
  {
   "cell_type": "code",
   "execution_count": 7,
   "metadata": {
    "executionInfo": {
     "elapsed": 42458,
     "status": "ok",
     "timestamp": 1607577629134,
     "user": {
      "displayName": "Sagar Mehta",
      "photoUrl": "",
      "userId": "03087367859835477034"
     },
     "user_tz": 300
    },
    "id": "bonHmlQqwtFc"
   },
   "outputs": [],
   "source": [
    "X_train = df[features].values\n",
    "y_train = np.ravel(df[\"Traded\"].values)\n",
    "\n",
    "X_test = df_test[features].values\n",
    "y_test = np.ravel(df_test[\"Traded\"].values)"
   ]
  },
  {
   "cell_type": "markdown",
   "metadata": {
    "id": "JxoBUEaiwtFe"
   },
   "source": [
    "### Create Neural Network Model with Scikit Learn"
   ]
  },
  {
   "cell_type": "code",
   "execution_count": 8,
   "metadata": {
    "executionInfo": {
     "elapsed": 46600,
     "status": "ok",
     "timestamp": 1607577633278,
     "user": {
      "displayName": "Sagar Mehta",
      "photoUrl": "",
      "userId": "03087367859835477034"
     },
     "user_tz": 300
    },
    "id": "TbyDdlyGwtFf"
   },
   "outputs": [],
   "source": [
    "mlp = MLPClassifier(hidden_layer_sizes=(11,11,11), activation='logistic', solver='adam', max_iter=500)\n",
    "mlp.fit(X_train,y_train)\n",
    "\n",
    "predict_train = mlp.predict(X_train)\n",
    "predict_test = mlp.predict(X_test)"
   ]
  },
  {
   "cell_type": "markdown",
   "metadata": {
    "id": "jLUpfo1SwtFg"
   },
   "source": [
    "### Training Results"
   ]
  },
  {
   "cell_type": "code",
   "execution_count": 8,
   "metadata": {
    "colab": {
     "base_uri": "https://localhost:8080/"
    },
    "executionInfo": {
     "elapsed": 46591,
     "status": "ok",
     "timestamp": 1607577633279,
     "user": {
      "displayName": "Sagar Mehta",
      "photoUrl": "",
      "userId": "03087367859835477034"
     },
     "user_tz": 300
    },
    "id": "NH5MDlibwtFh",
    "outputId": "d92ab439-0dbb-478c-acea-bab25faae2c5"
   },
   "outputs": [
    {
     "name": "stdout",
     "output_type": "stream",
     "text": [
      "[[2105  304]\n",
      " [ 238 2353]]\n",
      "              precision    recall  f1-score   support\n",
      "\n",
      "           0       0.90      0.87      0.89      2409\n",
      "           1       0.89      0.91      0.90      2591\n",
      "\n",
      "    accuracy                           0.89      5000\n",
      "   macro avg       0.89      0.89      0.89      5000\n",
      "weighted avg       0.89      0.89      0.89      5000\n",
      "\n"
     ]
    }
   ],
   "source": [
    "print(confusion_matrix(y_train,predict_train))\n",
    "print(classification_report(y_train,predict_train))"
   ]
  },
  {
   "cell_type": "markdown",
   "metadata": {
    "id": "jwBMSGpewtFj"
   },
   "source": [
    "### Test Results"
   ]
  },
  {
   "cell_type": "code",
   "execution_count": 9,
   "metadata": {
    "colab": {
     "base_uri": "https://localhost:8080/"
    },
    "executionInfo": {
     "elapsed": 46582,
     "status": "ok",
     "timestamp": 1607577633279,
     "user": {
      "displayName": "Sagar Mehta",
      "photoUrl": "",
      "userId": "03087367859835477034"
     },
     "user_tz": 300
    },
    "id": "9ZhJkSHQwtFj",
    "outputId": "dded03d2-9f9f-4ba8-a5c4-a78aeffc115f"
   },
   "outputs": [
    {
     "name": "stdout",
     "output_type": "stream",
     "text": [
      "[[340 113]\n",
      " [ 27 520]]\n",
      "              precision    recall  f1-score   support\n",
      "\n",
      "           0       0.93      0.75      0.83       453\n",
      "           1       0.82      0.95      0.88       547\n",
      "\n",
      "    accuracy                           0.86      1000\n",
      "   macro avg       0.87      0.85      0.86      1000\n",
      "weighted avg       0.87      0.86      0.86      1000\n",
      "\n"
     ]
    }
   ],
   "source": [
    "print(confusion_matrix(y_test,predict_test))\n",
    "print(classification_report(y_test,predict_test))"
   ]
  },
  {
   "cell_type": "code",
   "execution_count": 10,
   "metadata": {
    "colab": {
     "base_uri": "https://localhost:8080/",
     "height": 521
    },
    "executionInfo": {
     "elapsed": 46573,
     "status": "ok",
     "timestamp": 1607577633280,
     "user": {
      "displayName": "Sagar Mehta",
      "photoUrl": "",
      "userId": "03087367859835477034"
     },
     "user_tz": 300
    },
    "id": "FD8_CgHCwtFl",
    "outputId": "3dec9d04-7e7c-42be-9dc0-584aa76f049d",
    "scrolled": false
   },
   "outputs": [
    {
     "data": {
      "text/html": [
       "<div>\n",
       "<style scoped>\n",
       "    .dataframe tbody tr th:only-of-type {\n",
       "        vertical-align: middle;\n",
       "    }\n",
       "\n",
       "    .dataframe tbody tr th {\n",
       "        vertical-align: top;\n",
       "    }\n",
       "\n",
       "    .dataframe thead th {\n",
       "        text-align: right;\n",
       "    }\n",
       "</style>\n",
       "<table border=\"1\" class=\"dataframe\">\n",
       "  <thead>\n",
       "    <tr style=\"text-align: right;\">\n",
       "      <th></th>\n",
       "      <th>Bond0</th>\n",
       "      <th>Bond1</th>\n",
       "      <th>Bond2</th>\n",
       "      <th>Side</th>\n",
       "      <th>Diff</th>\n",
       "      <th>Notional</th>\n",
       "      <th>Competitors</th>\n",
       "      <th>CP0</th>\n",
       "      <th>CP1</th>\n",
       "      <th>CP2</th>\n",
       "      <th>CP3</th>\n",
       "      <th>Traded</th>\n",
       "      <th>ProbabilityTraded</th>\n",
       "    </tr>\n",
       "    <tr>\n",
       "      <th>Time</th>\n",
       "      <th></th>\n",
       "      <th></th>\n",
       "      <th></th>\n",
       "      <th></th>\n",
       "      <th></th>\n",
       "      <th></th>\n",
       "      <th></th>\n",
       "      <th></th>\n",
       "      <th></th>\n",
       "      <th></th>\n",
       "      <th></th>\n",
       "      <th></th>\n",
       "      <th></th>\n",
       "    </tr>\n",
       "  </thead>\n",
       "  <tbody>\n",
       "    <tr>\n",
       "      <th>30000</th>\n",
       "      <td>1.0</td>\n",
       "      <td>0.0</td>\n",
       "      <td>0.0</td>\n",
       "      <td>-1.0</td>\n",
       "      <td>0.016701</td>\n",
       "      <td>0.0001</td>\n",
       "      <td>0.25</td>\n",
       "      <td>0.0</td>\n",
       "      <td>1.0</td>\n",
       "      <td>0.0</td>\n",
       "      <td>0.0</td>\n",
       "      <td>0</td>\n",
       "      <td>0.563077</td>\n",
       "    </tr>\n",
       "    <tr>\n",
       "      <th>30001</th>\n",
       "      <td>1.0</td>\n",
       "      <td>0.0</td>\n",
       "      <td>0.0</td>\n",
       "      <td>1.0</td>\n",
       "      <td>0.011139</td>\n",
       "      <td>0.0001</td>\n",
       "      <td>0.25</td>\n",
       "      <td>0.0</td>\n",
       "      <td>0.0</td>\n",
       "      <td>0.0</td>\n",
       "      <td>1.0</td>\n",
       "      <td>1</td>\n",
       "      <td>0.875223</td>\n",
       "    </tr>\n",
       "    <tr>\n",
       "      <th>30002</th>\n",
       "      <td>0.0</td>\n",
       "      <td>0.0</td>\n",
       "      <td>1.0</td>\n",
       "      <td>-1.0</td>\n",
       "      <td>0.009415</td>\n",
       "      <td>0.0170</td>\n",
       "      <td>0.50</td>\n",
       "      <td>0.0</td>\n",
       "      <td>1.0</td>\n",
       "      <td>0.0</td>\n",
       "      <td>0.0</td>\n",
       "      <td>1</td>\n",
       "      <td>0.971252</td>\n",
       "    </tr>\n",
       "    <tr>\n",
       "      <th>30003</th>\n",
       "      <td>0.0</td>\n",
       "      <td>0.0</td>\n",
       "      <td>1.0</td>\n",
       "      <td>-1.0</td>\n",
       "      <td>0.009418</td>\n",
       "      <td>0.0001</td>\n",
       "      <td>1.00</td>\n",
       "      <td>0.0</td>\n",
       "      <td>0.0</td>\n",
       "      <td>0.0</td>\n",
       "      <td>1.0</td>\n",
       "      <td>1</td>\n",
       "      <td>0.998161</td>\n",
       "    </tr>\n",
       "    <tr>\n",
       "      <th>30004</th>\n",
       "      <td>0.0</td>\n",
       "      <td>0.0</td>\n",
       "      <td>1.0</td>\n",
       "      <td>1.0</td>\n",
       "      <td>0.047066</td>\n",
       "      <td>1.0000</td>\n",
       "      <td>0.75</td>\n",
       "      <td>0.0</td>\n",
       "      <td>1.0</td>\n",
       "      <td>0.0</td>\n",
       "      <td>0.0</td>\n",
       "      <td>0</td>\n",
       "      <td>0.176060</td>\n",
       "    </tr>\n",
       "    <tr>\n",
       "      <th>30005</th>\n",
       "      <td>0.0</td>\n",
       "      <td>0.0</td>\n",
       "      <td>1.0</td>\n",
       "      <td>-1.0</td>\n",
       "      <td>0.014144</td>\n",
       "      <td>0.0001</td>\n",
       "      <td>1.00</td>\n",
       "      <td>0.0</td>\n",
       "      <td>0.0</td>\n",
       "      <td>0.0</td>\n",
       "      <td>1.0</td>\n",
       "      <td>1</td>\n",
       "      <td>0.996380</td>\n",
       "    </tr>\n",
       "    <tr>\n",
       "      <th>30006</th>\n",
       "      <td>1.0</td>\n",
       "      <td>0.0</td>\n",
       "      <td>0.0</td>\n",
       "      <td>1.0</td>\n",
       "      <td>0.027847</td>\n",
       "      <td>0.0050</td>\n",
       "      <td>1.00</td>\n",
       "      <td>0.0</td>\n",
       "      <td>1.0</td>\n",
       "      <td>0.0</td>\n",
       "      <td>0.0</td>\n",
       "      <td>0</td>\n",
       "      <td>0.838343</td>\n",
       "    </tr>\n",
       "    <tr>\n",
       "      <th>30007</th>\n",
       "      <td>0.0</td>\n",
       "      <td>0.0</td>\n",
       "      <td>1.0</td>\n",
       "      <td>-1.0</td>\n",
       "      <td>0.018803</td>\n",
       "      <td>0.0001</td>\n",
       "      <td>0.25</td>\n",
       "      <td>1.0</td>\n",
       "      <td>0.0</td>\n",
       "      <td>0.0</td>\n",
       "      <td>0.0</td>\n",
       "      <td>0</td>\n",
       "      <td>0.391418</td>\n",
       "    </tr>\n",
       "    <tr>\n",
       "      <th>30008</th>\n",
       "      <td>1.0</td>\n",
       "      <td>0.0</td>\n",
       "      <td>0.0</td>\n",
       "      <td>1.0</td>\n",
       "      <td>0.000000</td>\n",
       "      <td>0.0010</td>\n",
       "      <td>0.25</td>\n",
       "      <td>0.0</td>\n",
       "      <td>0.0</td>\n",
       "      <td>1.0</td>\n",
       "      <td>0.0</td>\n",
       "      <td>1</td>\n",
       "      <td>0.165824</td>\n",
       "    </tr>\n",
       "    <tr>\n",
       "      <th>30009</th>\n",
       "      <td>1.0</td>\n",
       "      <td>0.0</td>\n",
       "      <td>0.0</td>\n",
       "      <td>1.0</td>\n",
       "      <td>0.022238</td>\n",
       "      <td>0.0001</td>\n",
       "      <td>0.25</td>\n",
       "      <td>0.0</td>\n",
       "      <td>0.0</td>\n",
       "      <td>0.0</td>\n",
       "      <td>1.0</td>\n",
       "      <td>0</td>\n",
       "      <td>0.477688</td>\n",
       "    </tr>\n",
       "    <tr>\n",
       "      <th>30010</th>\n",
       "      <td>0.0</td>\n",
       "      <td>1.0</td>\n",
       "      <td>0.0</td>\n",
       "      <td>1.0</td>\n",
       "      <td>0.027757</td>\n",
       "      <td>0.5430</td>\n",
       "      <td>0.50</td>\n",
       "      <td>0.0</td>\n",
       "      <td>1.0</td>\n",
       "      <td>0.0</td>\n",
       "      <td>0.0</td>\n",
       "      <td>1</td>\n",
       "      <td>0.987645</td>\n",
       "    </tr>\n",
       "    <tr>\n",
       "      <th>30011</th>\n",
       "      <td>0.0</td>\n",
       "      <td>0.0</td>\n",
       "      <td>1.0</td>\n",
       "      <td>-1.0</td>\n",
       "      <td>0.004696</td>\n",
       "      <td>0.0001</td>\n",
       "      <td>0.25</td>\n",
       "      <td>1.0</td>\n",
       "      <td>0.0</td>\n",
       "      <td>0.0</td>\n",
       "      <td>0.0</td>\n",
       "      <td>1</td>\n",
       "      <td>0.891849</td>\n",
       "    </tr>\n",
       "    <tr>\n",
       "      <th>30012</th>\n",
       "      <td>0.0</td>\n",
       "      <td>0.0</td>\n",
       "      <td>1.0</td>\n",
       "      <td>-1.0</td>\n",
       "      <td>0.004699</td>\n",
       "      <td>0.0001</td>\n",
       "      <td>0.25</td>\n",
       "      <td>1.0</td>\n",
       "      <td>0.0</td>\n",
       "      <td>0.0</td>\n",
       "      <td>0.0</td>\n",
       "      <td>1</td>\n",
       "      <td>0.891790</td>\n",
       "    </tr>\n",
       "    <tr>\n",
       "      <th>30013</th>\n",
       "      <td>1.0</td>\n",
       "      <td>0.0</td>\n",
       "      <td>0.0</td>\n",
       "      <td>1.0</td>\n",
       "      <td>0.000000</td>\n",
       "      <td>0.0001</td>\n",
       "      <td>0.50</td>\n",
       "      <td>0.0</td>\n",
       "      <td>0.0</td>\n",
       "      <td>0.0</td>\n",
       "      <td>1.0</td>\n",
       "      <td>1</td>\n",
       "      <td>0.994413</td>\n",
       "    </tr>\n",
       "    <tr>\n",
       "      <th>30014</th>\n",
       "      <td>0.0</td>\n",
       "      <td>0.0</td>\n",
       "      <td>1.0</td>\n",
       "      <td>-1.0</td>\n",
       "      <td>0.023547</td>\n",
       "      <td>0.0010</td>\n",
       "      <td>0.50</td>\n",
       "      <td>0.0</td>\n",
       "      <td>0.0</td>\n",
       "      <td>0.0</td>\n",
       "      <td>1.0</td>\n",
       "      <td>0</td>\n",
       "      <td>0.832160</td>\n",
       "    </tr>\n",
       "  </tbody>\n",
       "</table>\n",
       "</div>"
      ],
      "text/plain": [
       "       Bond0  Bond1  Bond2  Side  ...  CP2  CP3  Traded  ProbabilityTraded\n",
       "Time                              ...                                     \n",
       "30000    1.0    0.0    0.0  -1.0  ...  0.0  0.0       0           0.563077\n",
       "30001    1.0    0.0    0.0   1.0  ...  0.0  1.0       1           0.875223\n",
       "30002    0.0    0.0    1.0  -1.0  ...  0.0  0.0       1           0.971252\n",
       "30003    0.0    0.0    1.0  -1.0  ...  0.0  1.0       1           0.998161\n",
       "30004    0.0    0.0    1.0   1.0  ...  0.0  0.0       0           0.176060\n",
       "30005    0.0    0.0    1.0  -1.0  ...  0.0  1.0       1           0.996380\n",
       "30006    1.0    0.0    0.0   1.0  ...  0.0  0.0       0           0.838343\n",
       "30007    0.0    0.0    1.0  -1.0  ...  0.0  0.0       0           0.391418\n",
       "30008    1.0    0.0    0.0   1.0  ...  1.0  0.0       1           0.165824\n",
       "30009    1.0    0.0    0.0   1.0  ...  0.0  1.0       0           0.477688\n",
       "30010    0.0    1.0    0.0   1.0  ...  0.0  0.0       1           0.987645\n",
       "30011    0.0    0.0    1.0  -1.0  ...  0.0  0.0       1           0.891849\n",
       "30012    0.0    0.0    1.0  -1.0  ...  0.0  0.0       1           0.891790\n",
       "30013    1.0    0.0    0.0   1.0  ...  0.0  1.0       1           0.994413\n",
       "30014    0.0    0.0    1.0  -1.0  ...  0.0  1.0       0           0.832160\n",
       "\n",
       "[15 rows x 13 columns]"
      ]
     },
     "execution_count": 10,
     "metadata": {
      "tags": []
     },
     "output_type": "execute_result"
    }
   ],
   "source": [
    "df[\"ProbabilityTraded\"] = mlp.predict_proba(X_train)[:,1]\n",
    "df_test[\"ProbabilityTraded\"] = mlp.predict_proba(X_test)[:,1]\n",
    "df_test.head(15)"
   ]
  },
  {
   "cell_type": "markdown",
   "metadata": {
    "id": "l1zH8UaUwtFn"
   },
   "source": [
    "# Problem 2\n"
   ]
  },
  {
   "cell_type": "code",
   "execution_count": 11,
   "metadata": {
    "executionInfo": {
     "elapsed": 46572,
     "status": "ok",
     "timestamp": 1607577633281,
     "user": {
      "displayName": "Sagar Mehta",
      "photoUrl": "",
      "userId": "03087367859835477034"
     },
     "user_tz": 300
    },
    "id": "H8OLuiwMwtFn"
   },
   "outputs": [],
   "source": [
    "df = clean(train,features,part=2)\n",
    "df[features] = df[features]/normalize_ratio\n",
    "df_test = clean(test,features,part=2)\n",
    "df_test[features] = df_test[features]/normalize_ratio"
   ]
  },
  {
   "cell_type": "code",
   "execution_count": 12,
   "metadata": {
    "executionInfo": {
     "elapsed": 46570,
     "status": "ok",
     "timestamp": 1607577633281,
     "user": {
      "displayName": "Sagar Mehta",
      "photoUrl": "",
      "userId": "03087367859835477034"
     },
     "user_tz": 300
    },
    "id": "goBJtx1ywtFp"
   },
   "outputs": [],
   "source": [
    "X_train = df[features].values\n",
    "y_train = np.ravel(df[\"Success\"].values)\n",
    "\n",
    "X_test = df_test[features].values\n",
    "y_test = np.ravel(df_test[\"Success\"].values)"
   ]
  },
  {
   "cell_type": "code",
   "execution_count": 13,
   "metadata": {
    "colab": {
     "base_uri": "https://localhost:8080/"
    },
    "executionInfo": {
     "elapsed": 115547,
     "status": "ok",
     "timestamp": 1607577702267,
     "user": {
      "displayName": "Sagar Mehta",
      "photoUrl": "",
      "userId": "03087367859835477034"
     },
     "user_tz": 300
    },
    "id": "EarpDCT_wtFs",
    "outputId": "46b9e7e1-1628-4340-f76c-b00784b0f89d"
   },
   "outputs": [
    {
     "name": "stdout",
     "output_type": "stream",
     "text": [
      "[[2269   79   61]\n",
      " [ 198  602  474]\n",
      " [ 207  347  763]]\n",
      "              precision    recall  f1-score   support\n",
      "\n",
      "           0       0.85      0.94      0.89      2409\n",
      "           1       0.59      0.47      0.52      1274\n",
      "           2       0.59      0.58      0.58      1317\n",
      "\n",
      "    accuracy                           0.73      5000\n",
      "   macro avg       0.67      0.66      0.67      5000\n",
      "weighted avg       0.71      0.73      0.72      5000\n",
      "\n"
     ]
    }
   ],
   "source": [
    "mlp2 = MLPClassifier(hidden_layer_sizes=(500,500,11), activation='tanh', solver='adam', max_iter=500)\n",
    "mlp2.fit(X_train,y_train)\n",
    "\n",
    "predict_train = mlp2.predict(X_train)\n",
    "predict_test = mlp2.predict(X_test)\n",
    "print(confusion_matrix(y_train,predict_train))\n",
    "print(classification_report(y_train,predict_train))"
   ]
  },
  {
   "cell_type": "code",
   "execution_count": 14,
   "metadata": {
    "colab": {
     "base_uri": "https://localhost:8080/"
    },
    "executionInfo": {
     "elapsed": 115539,
     "status": "ok",
     "timestamp": 1607577702268,
     "user": {
      "displayName": "Sagar Mehta",
      "photoUrl": "",
      "userId": "03087367859835477034"
     },
     "user_tz": 300
    },
    "id": "5awLASttqR2-",
    "outputId": "4e9250e1-257c-4490-d6d4-a8c6fa12c284"
   },
   "outputs": [
    {
     "name": "stdout",
     "output_type": "stream",
     "text": [
      "[[389  36  28]\n",
      " [ 24 106 122]\n",
      " [ 23  98 174]]\n",
      "              precision    recall  f1-score   support\n",
      "\n",
      "           0       0.89      0.86      0.88       453\n",
      "           1       0.44      0.42      0.43       252\n",
      "           2       0.54      0.59      0.56       295\n",
      "\n",
      "    accuracy                           0.67      1000\n",
      "   macro avg       0.62      0.62      0.62      1000\n",
      "weighted avg       0.67      0.67      0.67      1000\n",
      "\n"
     ]
    }
   ],
   "source": [
    "print(confusion_matrix(y_test,predict_test))\n",
    "print(classification_report(y_test,predict_test))"
   ]
  },
  {
   "cell_type": "markdown",
   "metadata": {
    "id": "lpLPPb4m6Ck_"
   },
   "source": [
    "## Approach 1"
   ]
  },
  {
   "cell_type": "code",
   "execution_count": 15,
   "metadata": {
    "colab": {
     "base_uri": "https://localhost:8080/",
     "height": 1000
    },
    "executionInfo": {
     "elapsed": 116018,
     "status": "ok",
     "timestamp": 1607577702755,
     "user": {
      "displayName": "Sagar Mehta",
      "photoUrl": "",
      "userId": "03087367859835477034"
     },
     "user_tz": 300
    },
    "id": "ysHfBLBmPPPe",
    "outputId": "9f3aad35-c99d-4b84-8b27-05538e50fc41"
   },
   "outputs": [
    {
     "data": {
      "text/html": [
       "<div>\n",
       "<style scoped>\n",
       "    .dataframe tbody tr th:only-of-type {\n",
       "        vertical-align: middle;\n",
       "    }\n",
       "\n",
       "    .dataframe tbody tr th {\n",
       "        vertical-align: top;\n",
       "    }\n",
       "\n",
       "    .dataframe thead th {\n",
       "        text-align: right;\n",
       "    }\n",
       "</style>\n",
       "<table border=\"1\" class=\"dataframe\">\n",
       "  <thead>\n",
       "    <tr style=\"text-align: right;\">\n",
       "      <th></th>\n",
       "      <th>Bond0</th>\n",
       "      <th>Bond1</th>\n",
       "      <th>Bond2</th>\n",
       "      <th>Side</th>\n",
       "      <th>Diff</th>\n",
       "      <th>Notional</th>\n",
       "      <th>Competitors</th>\n",
       "      <th>CP0</th>\n",
       "      <th>CP1</th>\n",
       "      <th>CP2</th>\n",
       "      <th>CP3</th>\n",
       "      <th>Traded</th>\n",
       "      <th>Return</th>\n",
       "      <th>Success01</th>\n",
       "      <th>ProbabilitySuccess</th>\n",
       "      <th>PredictedSuccess01</th>\n",
       "    </tr>\n",
       "    <tr>\n",
       "      <th>Time</th>\n",
       "      <th></th>\n",
       "      <th></th>\n",
       "      <th></th>\n",
       "      <th></th>\n",
       "      <th></th>\n",
       "      <th></th>\n",
       "      <th></th>\n",
       "      <th></th>\n",
       "      <th></th>\n",
       "      <th></th>\n",
       "      <th></th>\n",
       "      <th></th>\n",
       "      <th></th>\n",
       "      <th></th>\n",
       "      <th></th>\n",
       "      <th></th>\n",
       "    </tr>\n",
       "  </thead>\n",
       "  <tbody>\n",
       "    <tr>\n",
       "      <th>30001</th>\n",
       "      <td>1.0</td>\n",
       "      <td>0.0</td>\n",
       "      <td>0.0</td>\n",
       "      <td>1.0</td>\n",
       "      <td>0.011139</td>\n",
       "      <td>0.0001</td>\n",
       "      <td>0.25</td>\n",
       "      <td>0.0</td>\n",
       "      <td>0.0</td>\n",
       "      <td>0.0</td>\n",
       "      <td>1.0</td>\n",
       "      <td>1</td>\n",
       "      <td>1.0</td>\n",
       "      <td>1</td>\n",
       "      <td>0.412943</td>\n",
       "      <td>0</td>\n",
       "    </tr>\n",
       "    <tr>\n",
       "      <th>30011</th>\n",
       "      <td>0.0</td>\n",
       "      <td>0.0</td>\n",
       "      <td>1.0</td>\n",
       "      <td>-1.0</td>\n",
       "      <td>0.004696</td>\n",
       "      <td>0.0001</td>\n",
       "      <td>0.25</td>\n",
       "      <td>1.0</td>\n",
       "      <td>0.0</td>\n",
       "      <td>0.0</td>\n",
       "      <td>0.0</td>\n",
       "      <td>1</td>\n",
       "      <td>-1.0</td>\n",
       "      <td>0</td>\n",
       "      <td>0.577760</td>\n",
       "      <td>1</td>\n",
       "    </tr>\n",
       "    <tr>\n",
       "      <th>30012</th>\n",
       "      <td>0.0</td>\n",
       "      <td>0.0</td>\n",
       "      <td>1.0</td>\n",
       "      <td>-1.0</td>\n",
       "      <td>0.004699</td>\n",
       "      <td>0.0001</td>\n",
       "      <td>0.25</td>\n",
       "      <td>1.0</td>\n",
       "      <td>0.0</td>\n",
       "      <td>0.0</td>\n",
       "      <td>0.0</td>\n",
       "      <td>1</td>\n",
       "      <td>-1.0</td>\n",
       "      <td>0</td>\n",
       "      <td>0.577737</td>\n",
       "      <td>1</td>\n",
       "    </tr>\n",
       "    <tr>\n",
       "      <th>30014</th>\n",
       "      <td>0.0</td>\n",
       "      <td>0.0</td>\n",
       "      <td>1.0</td>\n",
       "      <td>-1.0</td>\n",
       "      <td>0.023547</td>\n",
       "      <td>0.0010</td>\n",
       "      <td>0.50</td>\n",
       "      <td>0.0</td>\n",
       "      <td>0.0</td>\n",
       "      <td>0.0</td>\n",
       "      <td>1.0</td>\n",
       "      <td>0</td>\n",
       "      <td>1.0</td>\n",
       "      <td>0</td>\n",
       "      <td>0.507550</td>\n",
       "      <td>1</td>\n",
       "    </tr>\n",
       "    <tr>\n",
       "      <th>30023</th>\n",
       "      <td>1.0</td>\n",
       "      <td>0.0</td>\n",
       "      <td>0.0</td>\n",
       "      <td>-1.0</td>\n",
       "      <td>0.022177</td>\n",
       "      <td>0.0001</td>\n",
       "      <td>0.75</td>\n",
       "      <td>0.0</td>\n",
       "      <td>1.0</td>\n",
       "      <td>0.0</td>\n",
       "      <td>0.0</td>\n",
       "      <td>0</td>\n",
       "      <td>-1.0</td>\n",
       "      <td>0</td>\n",
       "      <td>0.534980</td>\n",
       "      <td>1</td>\n",
       "    </tr>\n",
       "    <tr>\n",
       "      <th>30027</th>\n",
       "      <td>0.0</td>\n",
       "      <td>0.0</td>\n",
       "      <td>1.0</td>\n",
       "      <td>1.0</td>\n",
       "      <td>0.009346</td>\n",
       "      <td>0.0001</td>\n",
       "      <td>0.75</td>\n",
       "      <td>0.0</td>\n",
       "      <td>0.0</td>\n",
       "      <td>0.0</td>\n",
       "      <td>1.0</td>\n",
       "      <td>1</td>\n",
       "      <td>0.0</td>\n",
       "      <td>1</td>\n",
       "      <td>0.493635</td>\n",
       "      <td>0</td>\n",
       "    </tr>\n",
       "    <tr>\n",
       "      <th>30028</th>\n",
       "      <td>1.0</td>\n",
       "      <td>0.0</td>\n",
       "      <td>0.0</td>\n",
       "      <td>-1.0</td>\n",
       "      <td>-0.000000</td>\n",
       "      <td>0.0001</td>\n",
       "      <td>0.50</td>\n",
       "      <td>0.0</td>\n",
       "      <td>0.0</td>\n",
       "      <td>0.0</td>\n",
       "      <td>1.0</td>\n",
       "      <td>1</td>\n",
       "      <td>1.0</td>\n",
       "      <td>1</td>\n",
       "      <td>0.391645</td>\n",
       "      <td>0</td>\n",
       "    </tr>\n",
       "    <tr>\n",
       "      <th>30029</th>\n",
       "      <td>0.0</td>\n",
       "      <td>1.0</td>\n",
       "      <td>0.0</td>\n",
       "      <td>1.0</td>\n",
       "      <td>0.027801</td>\n",
       "      <td>0.0001</td>\n",
       "      <td>0.75</td>\n",
       "      <td>0.0</td>\n",
       "      <td>1.0</td>\n",
       "      <td>0.0</td>\n",
       "      <td>0.0</td>\n",
       "      <td>1</td>\n",
       "      <td>1.0</td>\n",
       "      <td>1</td>\n",
       "      <td>0.467916</td>\n",
       "      <td>0</td>\n",
       "    </tr>\n",
       "    <tr>\n",
       "      <th>30033</th>\n",
       "      <td>0.0</td>\n",
       "      <td>0.0</td>\n",
       "      <td>1.0</td>\n",
       "      <td>-1.0</td>\n",
       "      <td>0.014014</td>\n",
       "      <td>0.0010</td>\n",
       "      <td>1.00</td>\n",
       "      <td>0.0</td>\n",
       "      <td>1.0</td>\n",
       "      <td>0.0</td>\n",
       "      <td>0.0</td>\n",
       "      <td>1</td>\n",
       "      <td>-1.0</td>\n",
       "      <td>0</td>\n",
       "      <td>0.543639</td>\n",
       "      <td>1</td>\n",
       "    </tr>\n",
       "    <tr>\n",
       "      <th>30035</th>\n",
       "      <td>1.0</td>\n",
       "      <td>0.0</td>\n",
       "      <td>0.0</td>\n",
       "      <td>1.0</td>\n",
       "      <td>0.016575</td>\n",
       "      <td>0.0001</td>\n",
       "      <td>0.75</td>\n",
       "      <td>0.0</td>\n",
       "      <td>0.0</td>\n",
       "      <td>0.0</td>\n",
       "      <td>1.0</td>\n",
       "      <td>1</td>\n",
       "      <td>1.0</td>\n",
       "      <td>1</td>\n",
       "      <td>0.427532</td>\n",
       "      <td>0</td>\n",
       "    </tr>\n",
       "    <tr>\n",
       "      <th>30036</th>\n",
       "      <td>1.0</td>\n",
       "      <td>0.0</td>\n",
       "      <td>0.0</td>\n",
       "      <td>1.0</td>\n",
       "      <td>0.011042</td>\n",
       "      <td>0.0001</td>\n",
       "      <td>1.00</td>\n",
       "      <td>0.0</td>\n",
       "      <td>0.0</td>\n",
       "      <td>0.0</td>\n",
       "      <td>1.0</td>\n",
       "      <td>1</td>\n",
       "      <td>-1.0</td>\n",
       "      <td>0</td>\n",
       "      <td>0.542572</td>\n",
       "      <td>1</td>\n",
       "    </tr>\n",
       "    <tr>\n",
       "      <th>30037</th>\n",
       "      <td>0.0</td>\n",
       "      <td>1.0</td>\n",
       "      <td>0.0</td>\n",
       "      <td>-1.0</td>\n",
       "      <td>0.011096</td>\n",
       "      <td>0.0001</td>\n",
       "      <td>0.50</td>\n",
       "      <td>0.0</td>\n",
       "      <td>0.0</td>\n",
       "      <td>0.0</td>\n",
       "      <td>1.0</td>\n",
       "      <td>1</td>\n",
       "      <td>1.0</td>\n",
       "      <td>1</td>\n",
       "      <td>0.401910</td>\n",
       "      <td>0</td>\n",
       "    </tr>\n",
       "    <tr>\n",
       "      <th>30038</th>\n",
       "      <td>1.0</td>\n",
       "      <td>0.0</td>\n",
       "      <td>0.0</td>\n",
       "      <td>-1.0</td>\n",
       "      <td>0.005530</td>\n",
       "      <td>0.0001</td>\n",
       "      <td>1.00</td>\n",
       "      <td>0.0</td>\n",
       "      <td>0.0</td>\n",
       "      <td>0.0</td>\n",
       "      <td>1.0</td>\n",
       "      <td>1</td>\n",
       "      <td>-1.0</td>\n",
       "      <td>0</td>\n",
       "      <td>0.529146</td>\n",
       "      <td>1</td>\n",
       "    </tr>\n",
       "    <tr>\n",
       "      <th>30042</th>\n",
       "      <td>0.0</td>\n",
       "      <td>0.0</td>\n",
       "      <td>1.0</td>\n",
       "      <td>-1.0</td>\n",
       "      <td>0.028082</td>\n",
       "      <td>0.0030</td>\n",
       "      <td>1.00</td>\n",
       "      <td>0.0</td>\n",
       "      <td>1.0</td>\n",
       "      <td>0.0</td>\n",
       "      <td>0.0</td>\n",
       "      <td>1</td>\n",
       "      <td>-1.0</td>\n",
       "      <td>0</td>\n",
       "      <td>0.456234</td>\n",
       "      <td>1</td>\n",
       "    </tr>\n",
       "    <tr>\n",
       "      <th>30047</th>\n",
       "      <td>0.0</td>\n",
       "      <td>0.0</td>\n",
       "      <td>1.0</td>\n",
       "      <td>-1.0</td>\n",
       "      <td>0.028124</td>\n",
       "      <td>0.0001</td>\n",
       "      <td>1.00</td>\n",
       "      <td>0.0</td>\n",
       "      <td>1.0</td>\n",
       "      <td>0.0</td>\n",
       "      <td>0.0</td>\n",
       "      <td>0</td>\n",
       "      <td>-1.0</td>\n",
       "      <td>0</td>\n",
       "      <td>0.454440</td>\n",
       "      <td>1</td>\n",
       "    </tr>\n",
       "    <tr>\n",
       "      <th>30051</th>\n",
       "      <td>0.0</td>\n",
       "      <td>0.0</td>\n",
       "      <td>1.0</td>\n",
       "      <td>-1.0</td>\n",
       "      <td>0.023510</td>\n",
       "      <td>0.0001</td>\n",
       "      <td>0.50</td>\n",
       "      <td>0.0</td>\n",
       "      <td>0.0</td>\n",
       "      <td>0.0</td>\n",
       "      <td>1.0</td>\n",
       "      <td>1</td>\n",
       "      <td>-1.0</td>\n",
       "      <td>0</td>\n",
       "      <td>0.507965</td>\n",
       "      <td>1</td>\n",
       "    </tr>\n",
       "    <tr>\n",
       "      <th>30055</th>\n",
       "      <td>1.0</td>\n",
       "      <td>0.0</td>\n",
       "      <td>0.0</td>\n",
       "      <td>-1.0</td>\n",
       "      <td>-0.000000</td>\n",
       "      <td>1.0000</td>\n",
       "      <td>0.75</td>\n",
       "      <td>0.0</td>\n",
       "      <td>1.0</td>\n",
       "      <td>0.0</td>\n",
       "      <td>0.0</td>\n",
       "      <td>1</td>\n",
       "      <td>-1.0</td>\n",
       "      <td>0</td>\n",
       "      <td>0.568262</td>\n",
       "      <td>1</td>\n",
       "    </tr>\n",
       "    <tr>\n",
       "      <th>30056</th>\n",
       "      <td>1.0</td>\n",
       "      <td>0.0</td>\n",
       "      <td>0.0</td>\n",
       "      <td>1.0</td>\n",
       "      <td>0.011042</td>\n",
       "      <td>0.0001</td>\n",
       "      <td>0.75</td>\n",
       "      <td>0.0</td>\n",
       "      <td>0.0</td>\n",
       "      <td>0.0</td>\n",
       "      <td>1.0</td>\n",
       "      <td>1</td>\n",
       "      <td>1.0</td>\n",
       "      <td>1</td>\n",
       "      <td>0.485749</td>\n",
       "      <td>0</td>\n",
       "    </tr>\n",
       "    <tr>\n",
       "      <th>30057</th>\n",
       "      <td>1.0</td>\n",
       "      <td>0.0</td>\n",
       "      <td>0.0</td>\n",
       "      <td>-1.0</td>\n",
       "      <td>0.011029</td>\n",
       "      <td>1.0000</td>\n",
       "      <td>0.50</td>\n",
       "      <td>1.0</td>\n",
       "      <td>0.0</td>\n",
       "      <td>0.0</td>\n",
       "      <td>0.0</td>\n",
       "      <td>1</td>\n",
       "      <td>1.0</td>\n",
       "      <td>1</td>\n",
       "      <td>0.354297</td>\n",
       "      <td>0</td>\n",
       "    </tr>\n",
       "    <tr>\n",
       "      <th>30069</th>\n",
       "      <td>0.0</td>\n",
       "      <td>0.0</td>\n",
       "      <td>1.0</td>\n",
       "      <td>1.0</td>\n",
       "      <td>0.009380</td>\n",
       "      <td>0.0001</td>\n",
       "      <td>0.75</td>\n",
       "      <td>0.0</td>\n",
       "      <td>0.0</td>\n",
       "      <td>0.0</td>\n",
       "      <td>1.0</td>\n",
       "      <td>1</td>\n",
       "      <td>1.0</td>\n",
       "      <td>1</td>\n",
       "      <td>0.493091</td>\n",
       "      <td>0</td>\n",
       "    </tr>\n",
       "    <tr>\n",
       "      <th>30072</th>\n",
       "      <td>0.0</td>\n",
       "      <td>0.0</td>\n",
       "      <td>1.0</td>\n",
       "      <td>-1.0</td>\n",
       "      <td>0.014019</td>\n",
       "      <td>0.0001</td>\n",
       "      <td>1.00</td>\n",
       "      <td>0.0</td>\n",
       "      <td>0.0</td>\n",
       "      <td>0.0</td>\n",
       "      <td>1.0</td>\n",
       "      <td>1</td>\n",
       "      <td>-1.0</td>\n",
       "      <td>0</td>\n",
       "      <td>0.557423</td>\n",
       "      <td>1</td>\n",
       "    </tr>\n",
       "    <tr>\n",
       "      <th>30074</th>\n",
       "      <td>1.0</td>\n",
       "      <td>0.0</td>\n",
       "      <td>0.0</td>\n",
       "      <td>1.0</td>\n",
       "      <td>0.010975</td>\n",
       "      <td>0.0001</td>\n",
       "      <td>0.25</td>\n",
       "      <td>0.0</td>\n",
       "      <td>0.0</td>\n",
       "      <td>0.0</td>\n",
       "      <td>1.0</td>\n",
       "      <td>1</td>\n",
       "      <td>1.0</td>\n",
       "      <td>1</td>\n",
       "      <td>0.415424</td>\n",
       "      <td>0</td>\n",
       "    </tr>\n",
       "    <tr>\n",
       "      <th>30075</th>\n",
       "      <td>1.0</td>\n",
       "      <td>0.0</td>\n",
       "      <td>0.0</td>\n",
       "      <td>-1.0</td>\n",
       "      <td>0.005484</td>\n",
       "      <td>0.0001</td>\n",
       "      <td>0.75</td>\n",
       "      <td>0.0</td>\n",
       "      <td>1.0</td>\n",
       "      <td>0.0</td>\n",
       "      <td>0.0</td>\n",
       "      <td>1</td>\n",
       "      <td>1.0</td>\n",
       "      <td>1</td>\n",
       "      <td>0.262979</td>\n",
       "      <td>0</td>\n",
       "    </tr>\n",
       "    <tr>\n",
       "      <th>30077</th>\n",
       "      <td>0.0</td>\n",
       "      <td>0.0</td>\n",
       "      <td>1.0</td>\n",
       "      <td>-1.0</td>\n",
       "      <td>0.023411</td>\n",
       "      <td>0.0001</td>\n",
       "      <td>1.00</td>\n",
       "      <td>1.0</td>\n",
       "      <td>0.0</td>\n",
       "      <td>0.0</td>\n",
       "      <td>0.0</td>\n",
       "      <td>0</td>\n",
       "      <td>1.0</td>\n",
       "      <td>0</td>\n",
       "      <td>0.495666</td>\n",
       "      <td>1</td>\n",
       "    </tr>\n",
       "    <tr>\n",
       "      <th>30078</th>\n",
       "      <td>1.0</td>\n",
       "      <td>0.0</td>\n",
       "      <td>0.0</td>\n",
       "      <td>1.0</td>\n",
       "      <td>0.010969</td>\n",
       "      <td>0.0001</td>\n",
       "      <td>0.25</td>\n",
       "      <td>1.0</td>\n",
       "      <td>0.0</td>\n",
       "      <td>0.0</td>\n",
       "      <td>0.0</td>\n",
       "      <td>0</td>\n",
       "      <td>1.0</td>\n",
       "      <td>0</td>\n",
       "      <td>0.475806</td>\n",
       "      <td>1</td>\n",
       "    </tr>\n",
       "    <tr>\n",
       "      <th>30093</th>\n",
       "      <td>1.0</td>\n",
       "      <td>0.0</td>\n",
       "      <td>0.0</td>\n",
       "      <td>-1.0</td>\n",
       "      <td>0.016518</td>\n",
       "      <td>0.0001</td>\n",
       "      <td>0.50</td>\n",
       "      <td>1.0</td>\n",
       "      <td>0.0</td>\n",
       "      <td>0.0</td>\n",
       "      <td>0.0</td>\n",
       "      <td>0</td>\n",
       "      <td>-1.0</td>\n",
       "      <td>0</td>\n",
       "      <td>0.439187</td>\n",
       "      <td>1</td>\n",
       "    </tr>\n",
       "    <tr>\n",
       "      <th>30095</th>\n",
       "      <td>1.0</td>\n",
       "      <td>0.0</td>\n",
       "      <td>0.0</td>\n",
       "      <td>-1.0</td>\n",
       "      <td>0.011044</td>\n",
       "      <td>0.0001</td>\n",
       "      <td>0.75</td>\n",
       "      <td>1.0</td>\n",
       "      <td>0.0</td>\n",
       "      <td>0.0</td>\n",
       "      <td>0.0</td>\n",
       "      <td>1</td>\n",
       "      <td>-1.0</td>\n",
       "      <td>0</td>\n",
       "      <td>0.554049</td>\n",
       "      <td>1</td>\n",
       "    </tr>\n",
       "    <tr>\n",
       "      <th>30098</th>\n",
       "      <td>0.0</td>\n",
       "      <td>0.0</td>\n",
       "      <td>1.0</td>\n",
       "      <td>1.0</td>\n",
       "      <td>0.027910</td>\n",
       "      <td>1.0000</td>\n",
       "      <td>0.75</td>\n",
       "      <td>0.0</td>\n",
       "      <td>1.0</td>\n",
       "      <td>0.0</td>\n",
       "      <td>0.0</td>\n",
       "      <td>1</td>\n",
       "      <td>-1.0</td>\n",
       "      <td>0</td>\n",
       "      <td>0.655265</td>\n",
       "      <td>1</td>\n",
       "    </tr>\n",
       "    <tr>\n",
       "      <th>30103</th>\n",
       "      <td>0.0</td>\n",
       "      <td>0.0</td>\n",
       "      <td>1.0</td>\n",
       "      <td>1.0</td>\n",
       "      <td>0.023202</td>\n",
       "      <td>0.0001</td>\n",
       "      <td>1.00</td>\n",
       "      <td>0.0</td>\n",
       "      <td>0.0</td>\n",
       "      <td>0.0</td>\n",
       "      <td>1.0</td>\n",
       "      <td>1</td>\n",
       "      <td>1.0</td>\n",
       "      <td>1</td>\n",
       "      <td>0.332007</td>\n",
       "      <td>0</td>\n",
       "    </tr>\n",
       "    <tr>\n",
       "      <th>30104</th>\n",
       "      <td>0.0</td>\n",
       "      <td>0.0</td>\n",
       "      <td>1.0</td>\n",
       "      <td>1.0</td>\n",
       "      <td>0.023180</td>\n",
       "      <td>0.0001</td>\n",
       "      <td>1.00</td>\n",
       "      <td>0.0</td>\n",
       "      <td>1.0</td>\n",
       "      <td>0.0</td>\n",
       "      <td>0.0</td>\n",
       "      <td>1</td>\n",
       "      <td>1.0</td>\n",
       "      <td>1</td>\n",
       "      <td>0.319424</td>\n",
       "      <td>0</td>\n",
       "    </tr>\n",
       "    <tr>\n",
       "      <th>30106</th>\n",
       "      <td>0.0</td>\n",
       "      <td>0.0</td>\n",
       "      <td>1.0</td>\n",
       "      <td>-1.0</td>\n",
       "      <td>0.004630</td>\n",
       "      <td>0.0001</td>\n",
       "      <td>0.25</td>\n",
       "      <td>0.0</td>\n",
       "      <td>1.0</td>\n",
       "      <td>0.0</td>\n",
       "      <td>0.0</td>\n",
       "      <td>1</td>\n",
       "      <td>1.0</td>\n",
       "      <td>1</td>\n",
       "      <td>0.345310</td>\n",
       "      <td>0</td>\n",
       "    </tr>\n",
       "    <tr>\n",
       "      <th>30109</th>\n",
       "      <td>1.0</td>\n",
       "      <td>0.0</td>\n",
       "      <td>0.0</td>\n",
       "      <td>1.0</td>\n",
       "      <td>0.005502</td>\n",
       "      <td>0.0001</td>\n",
       "      <td>0.50</td>\n",
       "      <td>0.0</td>\n",
       "      <td>0.0</td>\n",
       "      <td>0.0</td>\n",
       "      <td>1.0</td>\n",
       "      <td>1</td>\n",
       "      <td>-1.0</td>\n",
       "      <td>0</td>\n",
       "      <td>0.545359</td>\n",
       "      <td>1</td>\n",
       "    </tr>\n",
       "    <tr>\n",
       "      <th>30115</th>\n",
       "      <td>1.0</td>\n",
       "      <td>0.0</td>\n",
       "      <td>0.0</td>\n",
       "      <td>-1.0</td>\n",
       "      <td>0.016514</td>\n",
       "      <td>0.0001</td>\n",
       "      <td>0.50</td>\n",
       "      <td>0.0</td>\n",
       "      <td>1.0</td>\n",
       "      <td>0.0</td>\n",
       "      <td>0.0</td>\n",
       "      <td>1</td>\n",
       "      <td>-1.0</td>\n",
       "      <td>0</td>\n",
       "      <td>0.491862</td>\n",
       "      <td>1</td>\n",
       "    </tr>\n",
       "    <tr>\n",
       "      <th>30122</th>\n",
       "      <td>0.0</td>\n",
       "      <td>0.0</td>\n",
       "      <td>1.0</td>\n",
       "      <td>-1.0</td>\n",
       "      <td>0.009212</td>\n",
       "      <td>0.0001</td>\n",
       "      <td>0.75</td>\n",
       "      <td>0.0</td>\n",
       "      <td>0.0</td>\n",
       "      <td>0.0</td>\n",
       "      <td>1.0</td>\n",
       "      <td>1</td>\n",
       "      <td>-1.0</td>\n",
       "      <td>0</td>\n",
       "      <td>0.543700</td>\n",
       "      <td>1</td>\n",
       "    </tr>\n",
       "    <tr>\n",
       "      <th>30125</th>\n",
       "      <td>0.0</td>\n",
       "      <td>0.0</td>\n",
       "      <td>1.0</td>\n",
       "      <td>-1.0</td>\n",
       "      <td>0.027599</td>\n",
       "      <td>1.0000</td>\n",
       "      <td>1.00</td>\n",
       "      <td>0.0</td>\n",
       "      <td>0.0</td>\n",
       "      <td>0.0</td>\n",
       "      <td>1.0</td>\n",
       "      <td>1</td>\n",
       "      <td>-1.0</td>\n",
       "      <td>0</td>\n",
       "      <td>0.496708</td>\n",
       "      <td>1</td>\n",
       "    </tr>\n",
       "    <tr>\n",
       "      <th>30131</th>\n",
       "      <td>1.0</td>\n",
       "      <td>0.0</td>\n",
       "      <td>0.0</td>\n",
       "      <td>-1.0</td>\n",
       "      <td>0.005508</td>\n",
       "      <td>0.0001</td>\n",
       "      <td>0.50</td>\n",
       "      <td>0.0</td>\n",
       "      <td>1.0</td>\n",
       "      <td>0.0</td>\n",
       "      <td>0.0</td>\n",
       "      <td>1</td>\n",
       "      <td>1.0</td>\n",
       "      <td>1</td>\n",
       "      <td>0.254813</td>\n",
       "      <td>0</td>\n",
       "    </tr>\n",
       "    <tr>\n",
       "      <th>30134</th>\n",
       "      <td>0.0</td>\n",
       "      <td>0.0</td>\n",
       "      <td>1.0</td>\n",
       "      <td>-1.0</td>\n",
       "      <td>0.055097</td>\n",
       "      <td>1.0000</td>\n",
       "      <td>1.00</td>\n",
       "      <td>0.0</td>\n",
       "      <td>0.0</td>\n",
       "      <td>0.0</td>\n",
       "      <td>1.0</td>\n",
       "      <td>1</td>\n",
       "      <td>1.0</td>\n",
       "      <td>1</td>\n",
       "      <td>0.162017</td>\n",
       "      <td>0</td>\n",
       "    </tr>\n",
       "    <tr>\n",
       "      <th>30138</th>\n",
       "      <td>0.0</td>\n",
       "      <td>0.0</td>\n",
       "      <td>1.0</td>\n",
       "      <td>1.0</td>\n",
       "      <td>0.027589</td>\n",
       "      <td>0.0001</td>\n",
       "      <td>0.75</td>\n",
       "      <td>0.0</td>\n",
       "      <td>0.0</td>\n",
       "      <td>0.0</td>\n",
       "      <td>1.0</td>\n",
       "      <td>1</td>\n",
       "      <td>1.0</td>\n",
       "      <td>1</td>\n",
       "      <td>0.266646</td>\n",
       "      <td>0</td>\n",
       "    </tr>\n",
       "    <tr>\n",
       "      <th>30142</th>\n",
       "      <td>0.0</td>\n",
       "      <td>0.0</td>\n",
       "      <td>1.0</td>\n",
       "      <td>1.0</td>\n",
       "      <td>0.032196</td>\n",
       "      <td>0.0020</td>\n",
       "      <td>0.50</td>\n",
       "      <td>1.0</td>\n",
       "      <td>0.0</td>\n",
       "      <td>0.0</td>\n",
       "      <td>0.0</td>\n",
       "      <td>1</td>\n",
       "      <td>1.0</td>\n",
       "      <td>1</td>\n",
       "      <td>0.016224</td>\n",
       "      <td>0</td>\n",
       "    </tr>\n",
       "    <tr>\n",
       "      <th>30144</th>\n",
       "      <td>0.0</td>\n",
       "      <td>0.0</td>\n",
       "      <td>1.0</td>\n",
       "      <td>-1.0</td>\n",
       "      <td>0.027506</td>\n",
       "      <td>0.0001</td>\n",
       "      <td>0.75</td>\n",
       "      <td>0.0</td>\n",
       "      <td>0.0</td>\n",
       "      <td>0.0</td>\n",
       "      <td>1.0</td>\n",
       "      <td>1</td>\n",
       "      <td>-1.0</td>\n",
       "      <td>0</td>\n",
       "      <td>0.551174</td>\n",
       "      <td>1</td>\n",
       "    </tr>\n",
       "    <tr>\n",
       "      <th>30146</th>\n",
       "      <td>1.0</td>\n",
       "      <td>0.0</td>\n",
       "      <td>0.0</td>\n",
       "      <td>-1.0</td>\n",
       "      <td>0.016579</td>\n",
       "      <td>0.0001</td>\n",
       "      <td>0.75</td>\n",
       "      <td>0.0</td>\n",
       "      <td>0.0</td>\n",
       "      <td>0.0</td>\n",
       "      <td>1.0</td>\n",
       "      <td>1</td>\n",
       "      <td>-1.0</td>\n",
       "      <td>0</td>\n",
       "      <td>0.548458</td>\n",
       "      <td>1</td>\n",
       "    </tr>\n",
       "    <tr>\n",
       "      <th>30147</th>\n",
       "      <td>0.0</td>\n",
       "      <td>0.0</td>\n",
       "      <td>1.0</td>\n",
       "      <td>1.0</td>\n",
       "      <td>0.027476</td>\n",
       "      <td>1.0000</td>\n",
       "      <td>1.00</td>\n",
       "      <td>0.0</td>\n",
       "      <td>1.0</td>\n",
       "      <td>0.0</td>\n",
       "      <td>0.0</td>\n",
       "      <td>1</td>\n",
       "      <td>-1.0</td>\n",
       "      <td>0</td>\n",
       "      <td>0.595587</td>\n",
       "      <td>1</td>\n",
       "    </tr>\n",
       "    <tr>\n",
       "      <th>30151</th>\n",
       "      <td>1.0</td>\n",
       "      <td>0.0</td>\n",
       "      <td>0.0</td>\n",
       "      <td>1.0</td>\n",
       "      <td>0.011064</td>\n",
       "      <td>0.0001</td>\n",
       "      <td>0.50</td>\n",
       "      <td>0.0</td>\n",
       "      <td>0.0</td>\n",
       "      <td>0.0</td>\n",
       "      <td>1.0</td>\n",
       "      <td>1</td>\n",
       "      <td>1.0</td>\n",
       "      <td>1</td>\n",
       "      <td>0.465385</td>\n",
       "      <td>0</td>\n",
       "    </tr>\n",
       "    <tr>\n",
       "      <th>30152</th>\n",
       "      <td>0.0</td>\n",
       "      <td>0.0</td>\n",
       "      <td>1.0</td>\n",
       "      <td>1.0</td>\n",
       "      <td>0.018320</td>\n",
       "      <td>0.0100</td>\n",
       "      <td>1.00</td>\n",
       "      <td>0.0</td>\n",
       "      <td>1.0</td>\n",
       "      <td>0.0</td>\n",
       "      <td>0.0</td>\n",
       "      <td>1</td>\n",
       "      <td>1.0</td>\n",
       "      <td>1</td>\n",
       "      <td>0.473100</td>\n",
       "      <td>0</td>\n",
       "    </tr>\n",
       "    <tr>\n",
       "      <th>30155</th>\n",
       "      <td>0.0</td>\n",
       "      <td>1.0</td>\n",
       "      <td>0.0</td>\n",
       "      <td>1.0</td>\n",
       "      <td>0.032188</td>\n",
       "      <td>0.0001</td>\n",
       "      <td>0.50</td>\n",
       "      <td>0.0</td>\n",
       "      <td>1.0</td>\n",
       "      <td>0.0</td>\n",
       "      <td>0.0</td>\n",
       "      <td>1</td>\n",
       "      <td>1.0</td>\n",
       "      <td>1</td>\n",
       "      <td>0.383427</td>\n",
       "      <td>0</td>\n",
       "    </tr>\n",
       "    <tr>\n",
       "      <th>30156</th>\n",
       "      <td>1.0</td>\n",
       "      <td>0.0</td>\n",
       "      <td>0.0</td>\n",
       "      <td>1.0</td>\n",
       "      <td>0.011062</td>\n",
       "      <td>0.0001</td>\n",
       "      <td>1.00</td>\n",
       "      <td>1.0</td>\n",
       "      <td>0.0</td>\n",
       "      <td>0.0</td>\n",
       "      <td>0.0</td>\n",
       "      <td>1</td>\n",
       "      <td>-1.0</td>\n",
       "      <td>0</td>\n",
       "      <td>0.521004</td>\n",
       "      <td>1</td>\n",
       "    </tr>\n",
       "    <tr>\n",
       "      <th>30159</th>\n",
       "      <td>0.0</td>\n",
       "      <td>1.0</td>\n",
       "      <td>0.0</td>\n",
       "      <td>-1.0</td>\n",
       "      <td>0.064365</td>\n",
       "      <td>0.0001</td>\n",
       "      <td>1.00</td>\n",
       "      <td>0.0</td>\n",
       "      <td>1.0</td>\n",
       "      <td>0.0</td>\n",
       "      <td>0.0</td>\n",
       "      <td>1</td>\n",
       "      <td>1.0</td>\n",
       "      <td>1</td>\n",
       "      <td>0.281893</td>\n",
       "      <td>0</td>\n",
       "    </tr>\n",
       "    <tr>\n",
       "      <th>30161</th>\n",
       "      <td>0.0</td>\n",
       "      <td>0.0</td>\n",
       "      <td>1.0</td>\n",
       "      <td>-1.0</td>\n",
       "      <td>0.009132</td>\n",
       "      <td>0.0001</td>\n",
       "      <td>0.25</td>\n",
       "      <td>0.0</td>\n",
       "      <td>0.0</td>\n",
       "      <td>0.0</td>\n",
       "      <td>1.0</td>\n",
       "      <td>1</td>\n",
       "      <td>-1.0</td>\n",
       "      <td>0</td>\n",
       "      <td>0.432185</td>\n",
       "      <td>1</td>\n",
       "    </tr>\n",
       "    <tr>\n",
       "      <th>30166</th>\n",
       "      <td>0.0</td>\n",
       "      <td>0.0</td>\n",
       "      <td>1.0</td>\n",
       "      <td>-1.0</td>\n",
       "      <td>0.027347</td>\n",
       "      <td>1.0000</td>\n",
       "      <td>1.00</td>\n",
       "      <td>0.0</td>\n",
       "      <td>1.0</td>\n",
       "      <td>0.0</td>\n",
       "      <td>0.0</td>\n",
       "      <td>1</td>\n",
       "      <td>-1.0</td>\n",
       "      <td>0</td>\n",
       "      <td>0.503678</td>\n",
       "      <td>1</td>\n",
       "    </tr>\n",
       "    <tr>\n",
       "      <th>30171</th>\n",
       "      <td>0.0</td>\n",
       "      <td>0.0</td>\n",
       "      <td>1.0</td>\n",
       "      <td>-1.0</td>\n",
       "      <td>0.009114</td>\n",
       "      <td>0.0001</td>\n",
       "      <td>0.25</td>\n",
       "      <td>0.0</td>\n",
       "      <td>0.0</td>\n",
       "      <td>0.0</td>\n",
       "      <td>1.0</td>\n",
       "      <td>1</td>\n",
       "      <td>-1.0</td>\n",
       "      <td>0</td>\n",
       "      <td>0.432343</td>\n",
       "      <td>1</td>\n",
       "    </tr>\n",
       "  </tbody>\n",
       "</table>\n",
       "</div>"
      ],
      "text/plain": [
       "       Bond0  Bond1  Bond2  ...  Success01  ProbabilitySuccess  PredictedSuccess01\n",
       "Time                        ...                                                   \n",
       "30001    1.0    0.0    0.0  ...          1            0.412943                   0\n",
       "30011    0.0    0.0    1.0  ...          0            0.577760                   1\n",
       "30012    0.0    0.0    1.0  ...          0            0.577737                   1\n",
       "30014    0.0    0.0    1.0  ...          0            0.507550                   1\n",
       "30023    1.0    0.0    0.0  ...          0            0.534980                   1\n",
       "30027    0.0    0.0    1.0  ...          1            0.493635                   0\n",
       "30028    1.0    0.0    0.0  ...          1            0.391645                   0\n",
       "30029    0.0    1.0    0.0  ...          1            0.467916                   0\n",
       "30033    0.0    0.0    1.0  ...          0            0.543639                   1\n",
       "30035    1.0    0.0    0.0  ...          1            0.427532                   0\n",
       "30036    1.0    0.0    0.0  ...          0            0.542572                   1\n",
       "30037    0.0    1.0    0.0  ...          1            0.401910                   0\n",
       "30038    1.0    0.0    0.0  ...          0            0.529146                   1\n",
       "30042    0.0    0.0    1.0  ...          0            0.456234                   1\n",
       "30047    0.0    0.0    1.0  ...          0            0.454440                   1\n",
       "30051    0.0    0.0    1.0  ...          0            0.507965                   1\n",
       "30055    1.0    0.0    0.0  ...          0            0.568262                   1\n",
       "30056    1.0    0.0    0.0  ...          1            0.485749                   0\n",
       "30057    1.0    0.0    0.0  ...          1            0.354297                   0\n",
       "30069    0.0    0.0    1.0  ...          1            0.493091                   0\n",
       "30072    0.0    0.0    1.0  ...          0            0.557423                   1\n",
       "30074    1.0    0.0    0.0  ...          1            0.415424                   0\n",
       "30075    1.0    0.0    0.0  ...          1            0.262979                   0\n",
       "30077    0.0    0.0    1.0  ...          0            0.495666                   1\n",
       "30078    1.0    0.0    0.0  ...          0            0.475806                   1\n",
       "30093    1.0    0.0    0.0  ...          0            0.439187                   1\n",
       "30095    1.0    0.0    0.0  ...          0            0.554049                   1\n",
       "30098    0.0    0.0    1.0  ...          0            0.655265                   1\n",
       "30103    0.0    0.0    1.0  ...          1            0.332007                   0\n",
       "30104    0.0    0.0    1.0  ...          1            0.319424                   0\n",
       "30106    0.0    0.0    1.0  ...          1            0.345310                   0\n",
       "30109    1.0    0.0    0.0  ...          0            0.545359                   1\n",
       "30115    1.0    0.0    0.0  ...          0            0.491862                   1\n",
       "30122    0.0    0.0    1.0  ...          0            0.543700                   1\n",
       "30125    0.0    0.0    1.0  ...          0            0.496708                   1\n",
       "30131    1.0    0.0    0.0  ...          1            0.254813                   0\n",
       "30134    0.0    0.0    1.0  ...          1            0.162017                   0\n",
       "30138    0.0    0.0    1.0  ...          1            0.266646                   0\n",
       "30142    0.0    0.0    1.0  ...          1            0.016224                   0\n",
       "30144    0.0    0.0    1.0  ...          0            0.551174                   1\n",
       "30146    1.0    0.0    0.0  ...          0            0.548458                   1\n",
       "30147    0.0    0.0    1.0  ...          0            0.595587                   1\n",
       "30151    1.0    0.0    0.0  ...          1            0.465385                   0\n",
       "30152    0.0    0.0    1.0  ...          1            0.473100                   0\n",
       "30155    0.0    1.0    0.0  ...          1            0.383427                   0\n",
       "30156    1.0    0.0    0.0  ...          0            0.521004                   1\n",
       "30159    0.0    1.0    0.0  ...          1            0.281893                   0\n",
       "30161    0.0    0.0    1.0  ...          0            0.432185                   1\n",
       "30166    0.0    0.0    1.0  ...          0            0.503678                   1\n",
       "30171    0.0    0.0    1.0  ...          0            0.432343                   1\n",
       "\n",
       "[50 rows x 16 columns]"
      ]
     },
     "execution_count": 15,
     "metadata": {
      "tags": []
     },
     "output_type": "execute_result"
    }
   ],
   "source": [
    "df_test['Success01'] = df_test.Success.map({0:0,1:0,2:1})\n",
    "df[\"ProbabilitySuccess\"] = mlp2.predict_proba(X_train)[:,2]\n",
    "df_test[\"PredictedSuccess\"] = mlp2.predict(X_test)\n",
    "df_test[\"ProbabilitySuccess\"] = mlp2.predict_proba(X_test)[:,2]\n",
    "df_test[\"PredictedSuccess01\"] = df_test.PredictedSuccess.map({0:0,1:0,2:1})\n",
    "# Show only RFQs with PredictedSuccess01 = 1 and Success01 = 0, or PredictedSuccess01 = \n",
    "# 0 and Success01 = 1 (misclassified RFQs only)\n",
    "df_test_filter = df_test.loc[(df_test['Success01'] + df_test['PredictedSuccess01'] == 1)]\n",
    "df_test_filter = df_test_filter.drop('Success', 1)\n",
    "df_test_filter = df_test_filter.drop('PredictedSuccess', 1)\n",
    "#df_test_filter = df_test_filter.sort_values('ProbabilitySuccess',ascending=False)\n",
    "df_test_filter.head(50)"
   ]
  },
  {
   "cell_type": "code",
   "execution_count": 16,
   "metadata": {
    "colab": {
     "base_uri": "https://localhost:8080/",
     "height": 295
    },
    "executionInfo": {
     "elapsed": 116010,
     "status": "ok",
     "timestamp": 1607577702755,
     "user": {
      "displayName": "Sagar Mehta",
      "photoUrl": "",
      "userId": "03087367859835477034"
     },
     "user_tz": 300
    },
    "id": "CVwc0ZODb1o2",
    "outputId": "8af1304b-2bd8-43b9-9a86-f8b17b2f9911"
   },
   "outputs": [
    {
     "data": {
      "image/png": "[encoded data removed]",
      "text/plain": [
       "<Figure size 432x288 with 1 Axes>"
      ]
     },
     "metadata": {
      "needs_background": "light",
      "tags": []
     },
     "output_type": "display_data"
    }
   ],
   "source": [
    "# Find the highest probability of predicting success01 = 1 which gives the\n",
    "# misclassified labels\n",
    "df_test_filter['ProbabilitySuccess'].max()\n",
    "\n",
    "# Visualize distribution of probabilities giving misclassified labels\n",
    "sns.histplot(df_test_filter['ProbabilitySuccess'], binwidth = 0.02).set_title(\"Distribution of Probabilities for Misclassified RFQs\")\n",
    "plt.show()\n",
    "#sns.histplot(df_test['ProbabilitySuccess'], binwidth = 0.02)"
   ]
  },
  {
   "cell_type": "markdown",
   "metadata": {
    "id": "frMeOZ9rivIx"
   },
   "source": [
    "From the histogram above, we see that the number of misclassified RFQs is insignificant for probability values greater than 0.6 (approximately).\n",
    "\n",
    "So now, we will try to only make a trade if the probability of success is greater than 0.6. Specifically, we will vary the diff (scaled distance from mid) to find the highest diff which meets our probability of success criterion above. Then, we can use this diff value to solve for the quoted price. This will give us some guarantee that the quoted price will translate to a \"successful\" trade, meaning positive PnL and a done trade."
   ]
  },
  {
   "cell_type": "code",
   "execution_count": 17,
   "metadata": {
    "colab": {
     "base_uri": "https://localhost:8080/"
    },
    "executionInfo": {
     "elapsed": 116003,
     "status": "ok",
     "timestamp": 1607577702756,
     "user": {
      "displayName": "Sagar Mehta",
      "photoUrl": "",
      "userId": "03087367859835477034"
     },
     "user_tz": 300
    },
    "id": "-wpsZ0nNiuLU",
    "outputId": "4c2fcf53-8eac-469c-a62f-042ff2045836"
   },
   "outputs": [
    {
     "name": "stdout",
     "output_type": "stream",
     "text": [
      "The number of correctly labeled observations is: 174\n",
      "The number of filtered correctly labeled observations is: 79\n"
     ]
    }
   ],
   "source": [
    "# Count number of observations with RFQs correctly labeled as '1'\n",
    "df_correct = df_test.loc[(df_test['Success01'] + df_test['PredictedSuccess01'] == 2)]\n",
    "print('The number of correctly labeled observations is:', df_correct.shape[0])\n",
    "\n",
    "# Count number of observations with 'ProbabilitySuccess' > 0.6 for \n",
    "# the RFQs correctly labeled as '1'\n",
    "df_correct_filter = df_correct.loc[(df_correct['ProbabilitySuccess'] > 0.6)]\n",
    "print('The number of filtered correctly labeled observations is:', df_correct_filter.shape[0])"
   ]
  },
  {
   "cell_type": "markdown",
   "metadata": {
    "id": "isM8nG6Ho8F7"
   },
   "source": [
    "This seems like a reasonable condition to impose since we would still be able to make about 40% (80/198) of all trades which have been identified as good trades by our Multi-layer Perceptron classifier. Theoretically, this should give us a good balance between trading frequency and overall trading PnL."
   ]
  },
  {
   "cell_type": "code",
   "execution_count": 18,
   "metadata": {
    "colab": {
     "base_uri": "https://localhost:8080/",
     "height": 450
    },
    "executionInfo": {
     "elapsed": 116339,
     "status": "ok",
     "timestamp": 1607577703099,
     "user": {
      "displayName": "Sagar Mehta",
      "photoUrl": "",
      "userId": "03087367859835477034"
     },
     "user_tz": 300
    },
    "id": "04zcxvzksqmT",
    "outputId": "b3a1eaa4-a1b5-4c8b-e88b-95d516474717"
   },
   "outputs": [
    {
     "data": {
      "text/html": [
       "<div>\n",
       "<style scoped>\n",
       "    .dataframe tbody tr th:only-of-type {\n",
       "        vertical-align: middle;\n",
       "    }\n",
       "\n",
       "    .dataframe tbody tr th {\n",
       "        vertical-align: top;\n",
       "    }\n",
       "\n",
       "    .dataframe thead th {\n",
       "        text-align: right;\n",
       "    }\n",
       "</style>\n",
       "<table border=\"1\" class=\"dataframe\">\n",
       "  <thead>\n",
       "    <tr style=\"text-align: right;\">\n",
       "      <th></th>\n",
       "      <th>Bond0</th>\n",
       "      <th>Bond1</th>\n",
       "      <th>Bond2</th>\n",
       "      <th>Side</th>\n",
       "      <th>Diff</th>\n",
       "      <th>Notional</th>\n",
       "      <th>Competitors</th>\n",
       "      <th>CP0</th>\n",
       "      <th>CP1</th>\n",
       "      <th>CP2</th>\n",
       "      <th>CP3</th>\n",
       "      <th>Traded</th>\n",
       "      <th>Return</th>\n",
       "      <th>Success</th>\n",
       "      <th>Success01</th>\n",
       "      <th>PredictedSuccess</th>\n",
       "      <th>ProbabilitySuccess</th>\n",
       "      <th>PredictedSuccess01</th>\n",
       "    </tr>\n",
       "    <tr>\n",
       "      <th>Time</th>\n",
       "      <th></th>\n",
       "      <th></th>\n",
       "      <th></th>\n",
       "      <th></th>\n",
       "      <th></th>\n",
       "      <th></th>\n",
       "      <th></th>\n",
       "      <th></th>\n",
       "      <th></th>\n",
       "      <th></th>\n",
       "      <th></th>\n",
       "      <th></th>\n",
       "      <th></th>\n",
       "      <th></th>\n",
       "      <th></th>\n",
       "      <th></th>\n",
       "      <th></th>\n",
       "      <th></th>\n",
       "    </tr>\n",
       "  </thead>\n",
       "  <tbody>\n",
       "    <tr>\n",
       "      <th>30981</th>\n",
       "      <td>0.0</td>\n",
       "      <td>0.0</td>\n",
       "      <td>1.0</td>\n",
       "      <td>1.0</td>\n",
       "      <td>0.060936</td>\n",
       "      <td>0.0140</td>\n",
       "      <td>0.75</td>\n",
       "      <td>1.0</td>\n",
       "      <td>0.0</td>\n",
       "      <td>0.0</td>\n",
       "      <td>0.0</td>\n",
       "      <td>1</td>\n",
       "      <td>1.0</td>\n",
       "      <td>2</td>\n",
       "      <td>1</td>\n",
       "      <td>0</td>\n",
       "      <td>0.003644</td>\n",
       "      <td>0</td>\n",
       "    </tr>\n",
       "    <tr>\n",
       "      <th>30142</th>\n",
       "      <td>0.0</td>\n",
       "      <td>0.0</td>\n",
       "      <td>1.0</td>\n",
       "      <td>1.0</td>\n",
       "      <td>0.032196</td>\n",
       "      <td>0.0020</td>\n",
       "      <td>0.50</td>\n",
       "      <td>1.0</td>\n",
       "      <td>0.0</td>\n",
       "      <td>0.0</td>\n",
       "      <td>0.0</td>\n",
       "      <td>1</td>\n",
       "      <td>1.0</td>\n",
       "      <td>2</td>\n",
       "      <td>1</td>\n",
       "      <td>0</td>\n",
       "      <td>0.016224</td>\n",
       "      <td>0</td>\n",
       "    </tr>\n",
       "    <tr>\n",
       "      <th>30384</th>\n",
       "      <td>0.0</td>\n",
       "      <td>0.0</td>\n",
       "      <td>1.0</td>\n",
       "      <td>-1.0</td>\n",
       "      <td>0.059819</td>\n",
       "      <td>0.2360</td>\n",
       "      <td>0.75</td>\n",
       "      <td>0.0</td>\n",
       "      <td>0.0</td>\n",
       "      <td>0.0</td>\n",
       "      <td>1.0</td>\n",
       "      <td>1</td>\n",
       "      <td>1.0</td>\n",
       "      <td>2</td>\n",
       "      <td>1</td>\n",
       "      <td>0</td>\n",
       "      <td>0.031197</td>\n",
       "      <td>0</td>\n",
       "    </tr>\n",
       "    <tr>\n",
       "      <th>30326</th>\n",
       "      <td>0.0</td>\n",
       "      <td>1.0</td>\n",
       "      <td>0.0</td>\n",
       "      <td>-1.0</td>\n",
       "      <td>0.068913</td>\n",
       "      <td>0.0001</td>\n",
       "      <td>0.25</td>\n",
       "      <td>0.0</td>\n",
       "      <td>1.0</td>\n",
       "      <td>0.0</td>\n",
       "      <td>0.0</td>\n",
       "      <td>1</td>\n",
       "      <td>1.0</td>\n",
       "      <td>2</td>\n",
       "      <td>1</td>\n",
       "      <td>0</td>\n",
       "      <td>0.064306</td>\n",
       "      <td>0</td>\n",
       "    </tr>\n",
       "    <tr>\n",
       "      <th>30374</th>\n",
       "      <td>1.0</td>\n",
       "      <td>0.0</td>\n",
       "      <td>0.0</td>\n",
       "      <td>-1.0</td>\n",
       "      <td>0.022090</td>\n",
       "      <td>0.0001</td>\n",
       "      <td>0.25</td>\n",
       "      <td>1.0</td>\n",
       "      <td>0.0</td>\n",
       "      <td>0.0</td>\n",
       "      <td>0.0</td>\n",
       "      <td>1</td>\n",
       "      <td>1.0</td>\n",
       "      <td>2</td>\n",
       "      <td>1</td>\n",
       "      <td>0</td>\n",
       "      <td>0.100760</td>\n",
       "      <td>0</td>\n",
       "    </tr>\n",
       "    <tr>\n",
       "      <th>...</th>\n",
       "      <td>...</td>\n",
       "      <td>...</td>\n",
       "      <td>...</td>\n",
       "      <td>...</td>\n",
       "      <td>...</td>\n",
       "      <td>...</td>\n",
       "      <td>...</td>\n",
       "      <td>...</td>\n",
       "      <td>...</td>\n",
       "      <td>...</td>\n",
       "      <td>...</td>\n",
       "      <td>...</td>\n",
       "      <td>...</td>\n",
       "      <td>...</td>\n",
       "      <td>...</td>\n",
       "      <td>...</td>\n",
       "      <td>...</td>\n",
       "      <td>...</td>\n",
       "    </tr>\n",
       "    <tr>\n",
       "      <th>30160</th>\n",
       "      <td>1.0</td>\n",
       "      <td>0.0</td>\n",
       "      <td>0.0</td>\n",
       "      <td>1.0</td>\n",
       "      <td>0.005533</td>\n",
       "      <td>0.0001</td>\n",
       "      <td>1.00</td>\n",
       "      <td>0.0</td>\n",
       "      <td>1.0</td>\n",
       "      <td>0.0</td>\n",
       "      <td>0.0</td>\n",
       "      <td>1</td>\n",
       "      <td>1.0</td>\n",
       "      <td>2</td>\n",
       "      <td>1</td>\n",
       "      <td>2</td>\n",
       "      <td>0.874373</td>\n",
       "      <td>1</td>\n",
       "    </tr>\n",
       "    <tr>\n",
       "      <th>30589</th>\n",
       "      <td>0.0</td>\n",
       "      <td>0.0</td>\n",
       "      <td>1.0</td>\n",
       "      <td>1.0</td>\n",
       "      <td>0.000000</td>\n",
       "      <td>0.0001</td>\n",
       "      <td>0.75</td>\n",
       "      <td>0.0</td>\n",
       "      <td>1.0</td>\n",
       "      <td>0.0</td>\n",
       "      <td>0.0</td>\n",
       "      <td>1</td>\n",
       "      <td>1.0</td>\n",
       "      <td>2</td>\n",
       "      <td>1</td>\n",
       "      <td>2</td>\n",
       "      <td>0.887574</td>\n",
       "      <td>1</td>\n",
       "    </tr>\n",
       "    <tr>\n",
       "      <th>30530</th>\n",
       "      <td>0.0</td>\n",
       "      <td>0.0</td>\n",
       "      <td>1.0</td>\n",
       "      <td>1.0</td>\n",
       "      <td>0.000000</td>\n",
       "      <td>0.0001</td>\n",
       "      <td>0.75</td>\n",
       "      <td>0.0</td>\n",
       "      <td>1.0</td>\n",
       "      <td>0.0</td>\n",
       "      <td>0.0</td>\n",
       "      <td>1</td>\n",
       "      <td>1.0</td>\n",
       "      <td>2</td>\n",
       "      <td>1</td>\n",
       "      <td>2</td>\n",
       "      <td>0.887574</td>\n",
       "      <td>1</td>\n",
       "    </tr>\n",
       "    <tr>\n",
       "      <th>30497</th>\n",
       "      <td>0.0</td>\n",
       "      <td>0.0</td>\n",
       "      <td>1.0</td>\n",
       "      <td>1.0</td>\n",
       "      <td>0.000000</td>\n",
       "      <td>0.0001</td>\n",
       "      <td>1.00</td>\n",
       "      <td>0.0</td>\n",
       "      <td>1.0</td>\n",
       "      <td>0.0</td>\n",
       "      <td>0.0</td>\n",
       "      <td>1</td>\n",
       "      <td>1.0</td>\n",
       "      <td>2</td>\n",
       "      <td>1</td>\n",
       "      <td>2</td>\n",
       "      <td>0.890320</td>\n",
       "      <td>1</td>\n",
       "    </tr>\n",
       "    <tr>\n",
       "      <th>30678</th>\n",
       "      <td>1.0</td>\n",
       "      <td>0.0</td>\n",
       "      <td>0.0</td>\n",
       "      <td>1.0</td>\n",
       "      <td>0.000000</td>\n",
       "      <td>0.0001</td>\n",
       "      <td>1.00</td>\n",
       "      <td>0.0</td>\n",
       "      <td>1.0</td>\n",
       "      <td>0.0</td>\n",
       "      <td>0.0</td>\n",
       "      <td>1</td>\n",
       "      <td>1.0</td>\n",
       "      <td>2</td>\n",
       "      <td>1</td>\n",
       "      <td>2</td>\n",
       "      <td>0.893076</td>\n",
       "      <td>1</td>\n",
       "    </tr>\n",
       "  </tbody>\n",
       "</table>\n",
       "<p>295 rows × 18 columns</p>\n",
       "</div>"
      ],
      "text/plain": [
       "       Bond0  Bond1  ...  ProbabilitySuccess  PredictedSuccess01\n",
       "Time                 ...                                        \n",
       "30981    0.0    0.0  ...            0.003644                   0\n",
       "30142    0.0    0.0  ...            0.016224                   0\n",
       "30384    0.0    0.0  ...            0.031197                   0\n",
       "30326    0.0    1.0  ...            0.064306                   0\n",
       "30374    1.0    0.0  ...            0.100760                   0\n",
       "...      ...    ...  ...                 ...                 ...\n",
       "30160    1.0    0.0  ...            0.874373                   1\n",
       "30589    0.0    0.0  ...            0.887574                   1\n",
       "30530    0.0    0.0  ...            0.887574                   1\n",
       "30497    0.0    0.0  ...            0.890320                   1\n",
       "30678    1.0    0.0  ...            0.893076                   1\n",
       "\n",
       "[295 rows x 18 columns]"
      ]
     },
     "execution_count": 18,
     "metadata": {
      "tags": []
     },
     "output_type": "execute_result"
    }
   ],
   "source": [
    "# All RFQ orders that transacted and have a positive PnL, regardless of predicted label\n",
    "df_success = df_test.loc[(df_test['Success01'] == 1)]\n",
    "df_success = df_success.sort_values('ProbabilitySuccess',ascending=True)\n",
    "df_success"
   ]
  },
  {
   "cell_type": "code",
   "execution_count": 19,
   "metadata": {
    "colab": {
     "base_uri": "https://localhost:8080/",
     "height": 296
    },
    "executionInfo": {
     "elapsed": 116331,
     "status": "ok",
     "timestamp": 1607577703100,
     "user": {
      "displayName": "Sagar Mehta",
      "photoUrl": "",
      "userId": "03087367859835477034"
     },
     "user_tz": 300
    },
    "id": "aXEZ0bt1tX4c",
    "outputId": "e8749907-9665-4453-9fc9-c6b142994eeb"
   },
   "outputs": [
    {
     "data": {
      "text/plain": [
       "<matplotlib.axes._subplots.AxesSubplot at 0x7f3575229470>"
      ]
     },
     "execution_count": 19,
     "metadata": {
      "tags": []
     },
     "output_type": "execute_result"
    },
    {
     "data": {
      "image/png": "[encoded data removed]",
      "text/plain": [
       "<Figure size 432x288 with 1 Axes>"
      ]
     },
     "metadata": {
      "needs_background": "light",
      "tags": []
     },
     "output_type": "display_data"
    }
   ],
   "source": [
    "# Visualize distribution of probabilities for all 'successful' RFQs\n",
    "sns.histplot(df_success['ProbabilitySuccess'], binwidth = 0.02)"
   ]
  },
  {
   "cell_type": "code",
   "execution_count": 20,
   "metadata": {
    "colab": {
     "base_uri": "https://localhost:8080/"
    },
    "executionInfo": {
     "elapsed": 116325,
     "status": "ok",
     "timestamp": 1607577703101,
     "user": {
      "displayName": "Sagar Mehta",
      "photoUrl": "",
      "userId": "03087367859835477034"
     },
     "user_tz": 300
    },
    "id": "JhWDjIDYuIcS",
    "outputId": "6ed5f1e6-1666-4c85-b52e-75d300be155a"
   },
   "outputs": [
    {
     "name": "stdout",
     "output_type": "stream",
     "text": [
      "The number of successful RFQs is: 295\n",
      "The number of filtered successful RFQs is: 79\n"
     ]
    }
   ],
   "source": [
    "# Count number of observations for RFQs labeled as '1' (successful RFQs)\n",
    "print('The number of successful RFQs is:', df_success.shape[0])\n",
    "\n",
    "# Count number of observations with 'ProbabilitySuccess' > 0.6 for \n",
    "# the RFQs labeled as '1'\n",
    "df_success_filter = df_success.loc[(df_success['ProbabilitySuccess'] > 0.6)]\n",
    "print('The number of filtered successful RFQs is:', df_success_filter.shape[0])"
   ]
  },
  {
   "cell_type": "markdown",
   "metadata": {
    "id": "T-BMZKZAxTY3"
   },
   "source": [
    "The above analysis and comparison between the number of successful RFQs and the number of successful RFQs which meet our probability of success requirement show that, in fact, only about 27.1% (80/295) of all successful RFQs are detected by our Multi-layer Perceptron classifier with the imposed condition."
   ]
  },
  {
   "cell_type": "markdown",
   "metadata": {
    "id": "8lrQDTAR54xK"
   },
   "source": [
    "## Approach 2"
   ]
  },
  {
   "cell_type": "code",
   "execution_count": 21,
   "metadata": {
    "colab": {
     "base_uri": "https://localhost:8080/",
     "height": 450
    },
    "executionInfo": {
     "elapsed": 116623,
     "status": "ok",
     "timestamp": 1607577703408,
     "user": {
      "displayName": "Sagar Mehta",
      "photoUrl": "",
      "userId": "03087367859835477034"
     },
     "user_tz": 300
    },
    "id": "TRqp9KhMxRyz",
    "outputId": "a4aec87e-51bc-4780-a677-77943d3dcdf9"
   },
   "outputs": [
    {
     "data": {
      "text/html": [
       "<div>\n",
       "<style scoped>\n",
       "    .dataframe tbody tr th:only-of-type {\n",
       "        vertical-align: middle;\n",
       "    }\n",
       "\n",
       "    .dataframe tbody tr th {\n",
       "        vertical-align: top;\n",
       "    }\n",
       "\n",
       "    .dataframe thead th {\n",
       "        text-align: right;\n",
       "    }\n",
       "</style>\n",
       "<table border=\"1\" class=\"dataframe\">\n",
       "  <thead>\n",
       "    <tr style=\"text-align: right;\">\n",
       "      <th></th>\n",
       "      <th>Bond0</th>\n",
       "      <th>Bond1</th>\n",
       "      <th>Bond2</th>\n",
       "      <th>Side</th>\n",
       "      <th>Diff</th>\n",
       "      <th>Notional</th>\n",
       "      <th>Competitors</th>\n",
       "      <th>CP0</th>\n",
       "      <th>CP1</th>\n",
       "      <th>CP2</th>\n",
       "      <th>CP3</th>\n",
       "      <th>Traded</th>\n",
       "      <th>Return</th>\n",
       "      <th>Success</th>\n",
       "      <th>Success01</th>\n",
       "      <th>PredictedSuccess</th>\n",
       "      <th>ProbabilitySuccess</th>\n",
       "      <th>PredictedSuccess01</th>\n",
       "      <th>PL</th>\n",
       "    </tr>\n",
       "    <tr>\n",
       "      <th>Time</th>\n",
       "      <th></th>\n",
       "      <th></th>\n",
       "      <th></th>\n",
       "      <th></th>\n",
       "      <th></th>\n",
       "      <th></th>\n",
       "      <th></th>\n",
       "      <th></th>\n",
       "      <th></th>\n",
       "      <th></th>\n",
       "      <th></th>\n",
       "      <th></th>\n",
       "      <th></th>\n",
       "      <th></th>\n",
       "      <th></th>\n",
       "      <th></th>\n",
       "      <th></th>\n",
       "      <th></th>\n",
       "      <th></th>\n",
       "    </tr>\n",
       "  </thead>\n",
       "  <tbody>\n",
       "    <tr>\n",
       "      <th>30000</th>\n",
       "      <td>1.0</td>\n",
       "      <td>0.0</td>\n",
       "      <td>0.0</td>\n",
       "      <td>-1.0</td>\n",
       "      <td>0.016701</td>\n",
       "      <td>0.0001</td>\n",
       "      <td>0.25</td>\n",
       "      <td>0.0</td>\n",
       "      <td>1.0</td>\n",
       "      <td>0.0</td>\n",
       "      <td>0.0</td>\n",
       "      <td>0</td>\n",
       "      <td>-1.0</td>\n",
       "      <td>0</td>\n",
       "      <td>0</td>\n",
       "      <td>0</td>\n",
       "      <td>0.153873</td>\n",
       "      <td>0</td>\n",
       "      <td>0.0</td>\n",
       "    </tr>\n",
       "    <tr>\n",
       "      <th>30001</th>\n",
       "      <td>1.0</td>\n",
       "      <td>0.0</td>\n",
       "      <td>0.0</td>\n",
       "      <td>1.0</td>\n",
       "      <td>0.011139</td>\n",
       "      <td>0.0001</td>\n",
       "      <td>0.25</td>\n",
       "      <td>0.0</td>\n",
       "      <td>0.0</td>\n",
       "      <td>0.0</td>\n",
       "      <td>1.0</td>\n",
       "      <td>1</td>\n",
       "      <td>1.0</td>\n",
       "      <td>2</td>\n",
       "      <td>1</td>\n",
       "      <td>1</td>\n",
       "      <td>0.412943</td>\n",
       "      <td>0</td>\n",
       "      <td>-0.2</td>\n",
       "    </tr>\n",
       "    <tr>\n",
       "      <th>30002</th>\n",
       "      <td>0.0</td>\n",
       "      <td>0.0</td>\n",
       "      <td>1.0</td>\n",
       "      <td>-1.0</td>\n",
       "      <td>0.009415</td>\n",
       "      <td>0.0170</td>\n",
       "      <td>0.50</td>\n",
       "      <td>0.0</td>\n",
       "      <td>1.0</td>\n",
       "      <td>0.0</td>\n",
       "      <td>0.0</td>\n",
       "      <td>1</td>\n",
       "      <td>-1.0</td>\n",
       "      <td>1</td>\n",
       "      <td>0</td>\n",
       "      <td>1</td>\n",
       "      <td>0.456329</td>\n",
       "      <td>0</td>\n",
       "      <td>-34.0</td>\n",
       "    </tr>\n",
       "    <tr>\n",
       "      <th>30003</th>\n",
       "      <td>0.0</td>\n",
       "      <td>0.0</td>\n",
       "      <td>1.0</td>\n",
       "      <td>-1.0</td>\n",
       "      <td>0.009418</td>\n",
       "      <td>0.0001</td>\n",
       "      <td>1.00</td>\n",
       "      <td>0.0</td>\n",
       "      <td>0.0</td>\n",
       "      <td>0.0</td>\n",
       "      <td>1.0</td>\n",
       "      <td>1</td>\n",
       "      <td>1.0</td>\n",
       "      <td>2</td>\n",
       "      <td>1</td>\n",
       "      <td>2</td>\n",
       "      <td>0.547623</td>\n",
       "      <td>1</td>\n",
       "      <td>0.9</td>\n",
       "    </tr>\n",
       "    <tr>\n",
       "      <th>30004</th>\n",
       "      <td>0.0</td>\n",
       "      <td>0.0</td>\n",
       "      <td>1.0</td>\n",
       "      <td>1.0</td>\n",
       "      <td>0.047066</td>\n",
       "      <td>1.0000</td>\n",
       "      <td>0.75</td>\n",
       "      <td>0.0</td>\n",
       "      <td>1.0</td>\n",
       "      <td>0.0</td>\n",
       "      <td>0.0</td>\n",
       "      <td>0</td>\n",
       "      <td>-1.0</td>\n",
       "      <td>0</td>\n",
       "      <td>0</td>\n",
       "      <td>0</td>\n",
       "      <td>0.059905</td>\n",
       "      <td>0</td>\n",
       "      <td>0.0</td>\n",
       "    </tr>\n",
       "    <tr>\n",
       "      <th>...</th>\n",
       "      <td>...</td>\n",
       "      <td>...</td>\n",
       "      <td>...</td>\n",
       "      <td>...</td>\n",
       "      <td>...</td>\n",
       "      <td>...</td>\n",
       "      <td>...</td>\n",
       "      <td>...</td>\n",
       "      <td>...</td>\n",
       "      <td>...</td>\n",
       "      <td>...</td>\n",
       "      <td>...</td>\n",
       "      <td>...</td>\n",
       "      <td>...</td>\n",
       "      <td>...</td>\n",
       "      <td>...</td>\n",
       "      <td>...</td>\n",
       "      <td>...</td>\n",
       "      <td>...</td>\n",
       "    </tr>\n",
       "    <tr>\n",
       "      <th>30995</th>\n",
       "      <td>1.0</td>\n",
       "      <td>0.0</td>\n",
       "      <td>0.0</td>\n",
       "      <td>1.0</td>\n",
       "      <td>0.109626</td>\n",
       "      <td>0.0010</td>\n",
       "      <td>0.75</td>\n",
       "      <td>0.0</td>\n",
       "      <td>1.0</td>\n",
       "      <td>0.0</td>\n",
       "      <td>0.0</td>\n",
       "      <td>0</td>\n",
       "      <td>-1.0</td>\n",
       "      <td>0</td>\n",
       "      <td>0</td>\n",
       "      <td>0</td>\n",
       "      <td>0.007060</td>\n",
       "      <td>0</td>\n",
       "      <td>0.0</td>\n",
       "    </tr>\n",
       "    <tr>\n",
       "      <th>30996</th>\n",
       "      <td>1.0</td>\n",
       "      <td>0.0</td>\n",
       "      <td>0.0</td>\n",
       "      <td>-1.0</td>\n",
       "      <td>0.011526</td>\n",
       "      <td>0.0001</td>\n",
       "      <td>0.25</td>\n",
       "      <td>0.0</td>\n",
       "      <td>1.0</td>\n",
       "      <td>0.0</td>\n",
       "      <td>0.0</td>\n",
       "      <td>1</td>\n",
       "      <td>1.0</td>\n",
       "      <td>2</td>\n",
       "      <td>1</td>\n",
       "      <td>0</td>\n",
       "      <td>0.255275</td>\n",
       "      <td>0</td>\n",
       "      <td>0.6</td>\n",
       "    </tr>\n",
       "    <tr>\n",
       "      <th>30997</th>\n",
       "      <td>0.0</td>\n",
       "      <td>0.0</td>\n",
       "      <td>1.0</td>\n",
       "      <td>1.0</td>\n",
       "      <td>0.023404</td>\n",
       "      <td>0.2430</td>\n",
       "      <td>0.75</td>\n",
       "      <td>0.0</td>\n",
       "      <td>0.0</td>\n",
       "      <td>0.0</td>\n",
       "      <td>1.0</td>\n",
       "      <td>1</td>\n",
       "      <td>1.0</td>\n",
       "      <td>2</td>\n",
       "      <td>1</td>\n",
       "      <td>1</td>\n",
       "      <td>0.385646</td>\n",
       "      <td>0</td>\n",
       "      <td>-486.0</td>\n",
       "    </tr>\n",
       "    <tr>\n",
       "      <th>30998</th>\n",
       "      <td>0.0</td>\n",
       "      <td>0.0</td>\n",
       "      <td>1.0</td>\n",
       "      <td>-1.0</td>\n",
       "      <td>0.018713</td>\n",
       "      <td>0.0001</td>\n",
       "      <td>0.50</td>\n",
       "      <td>0.0</td>\n",
       "      <td>1.0</td>\n",
       "      <td>0.0</td>\n",
       "      <td>0.0</td>\n",
       "      <td>1</td>\n",
       "      <td>1.0</td>\n",
       "      <td>2</td>\n",
       "      <td>1</td>\n",
       "      <td>2</td>\n",
       "      <td>0.526989</td>\n",
       "      <td>1</td>\n",
       "      <td>0.3</td>\n",
       "    </tr>\n",
       "    <tr>\n",
       "      <th>30999</th>\n",
       "      <td>0.0</td>\n",
       "      <td>0.0</td>\n",
       "      <td>1.0</td>\n",
       "      <td>1.0</td>\n",
       "      <td>0.032751</td>\n",
       "      <td>0.0080</td>\n",
       "      <td>1.00</td>\n",
       "      <td>0.0</td>\n",
       "      <td>0.0</td>\n",
       "      <td>1.0</td>\n",
       "      <td>0.0</td>\n",
       "      <td>0</td>\n",
       "      <td>-1.0</td>\n",
       "      <td>0</td>\n",
       "      <td>0</td>\n",
       "      <td>0</td>\n",
       "      <td>0.002942</td>\n",
       "      <td>0</td>\n",
       "      <td>0.0</td>\n",
       "    </tr>\n",
       "  </tbody>\n",
       "</table>\n",
       "<p>1000 rows × 19 columns</p>\n",
       "</div>"
      ],
      "text/plain": [
       "       Bond0  Bond1  Bond2  ...  ProbabilitySuccess  PredictedSuccess01     PL\n",
       "Time                        ...                                               \n",
       "30000    1.0    0.0    0.0  ...            0.153873                   0    0.0\n",
       "30001    1.0    0.0    0.0  ...            0.412943                   0   -0.2\n",
       "30002    0.0    0.0    1.0  ...            0.456329                   0  -34.0\n",
       "30003    0.0    0.0    1.0  ...            0.547623                   1    0.9\n",
       "30004    0.0    0.0    1.0  ...            0.059905                   0    0.0\n",
       "...      ...    ...    ...  ...                 ...                 ...    ...\n",
       "30995    1.0    0.0    0.0  ...            0.007060                   0    0.0\n",
       "30996    1.0    0.0    0.0  ...            0.255275                   0    0.6\n",
       "30997    0.0    0.0    1.0  ...            0.385646                   0 -486.0\n",
       "30998    0.0    0.0    1.0  ...            0.526989                   1    0.3\n",
       "30999    0.0    0.0    1.0  ...            0.002942                   0    0.0\n",
       "\n",
       "[1000 rows x 19 columns]"
      ]
     },
     "execution_count": 21,
     "metadata": {
      "tags": []
     },
     "output_type": "execute_result"
    }
   ],
   "source": [
    "df_testwpl = clean(test,features,part=2,show_PL=True)\n",
    "df_testwpl[features] = df_testwpl[features]/normalize_ratio\n",
    "df_testwpl = df_testwpl['PL']\n",
    "#type(df_testwpl)\n",
    "\n",
    "df_test['PL'] = df_testwpl\n",
    "df_test"
   ]
  },
  {
   "cell_type": "code",
   "execution_count": 22,
   "metadata": {
    "colab": {
     "base_uri": "https://localhost:8080/"
    },
    "executionInfo": {
     "elapsed": 117655,
     "status": "ok",
     "timestamp": 1607577704449,
     "user": {
      "displayName": "Sagar Mehta",
      "photoUrl": "",
      "userId": "03087367859835477034"
     },
     "user_tz": 300
    },
    "id": "8bMdAHOv2zXJ",
    "outputId": "66eeda4e-3d93-4c37-aa27-1dd9eb4575ce"
   },
   "outputs": [
    {
     "name": "stdout",
     "output_type": "stream",
     "text": [
      "Best probability is: 0.3081048601097478\n",
      "Max PnL is: 86030.00000000796\n"
     ]
    }
   ],
   "source": [
    "# Compute the optimal probability of success value which maximizes PL\n",
    "probs = df_test['ProbabilitySuccess'].tolist()\n",
    "best_p = 0\n",
    "max_pnl = 0\n",
    "p_arr = []\n",
    "pnl_arr = []\n",
    "for p in probs:\n",
    "  #print('Probability:', p)\n",
    "  p_arr.append(p)\n",
    "  df_temp = df_test.loc[(df_test['ProbabilitySuccess'] >= p)]\n",
    "  pnl = df_temp['PL'].sum()\n",
    "  #print('PnL:', pnl)\n",
    "  pnl_arr.append(pnl)\n",
    "  if pnl > max_pnl:\n",
    "    max_pnl = pnl\n",
    "    best_p = p\n",
    "\n",
    "print('Best probability is:', best_p)\n",
    "print('Max PnL is:', max_pnl)"
   ]
  },
  {
   "cell_type": "code",
   "execution_count": 23,
   "metadata": {
    "colab": {
     "base_uri": "https://localhost:8080/",
     "height": 282
    },
    "executionInfo": {
     "elapsed": 117647,
     "status": "ok",
     "timestamp": 1607577704450,
     "user": {
      "displayName": "Sagar Mehta",
      "photoUrl": "",
      "userId": "03087367859835477034"
     },
     "user_tz": 300
    },
    "id": "RzAYkRFpX5nk",
    "outputId": "3bc1321a-8b13-4d74-8c34-e59d956bc466"
   },
   "outputs": [
    {
     "data": {
      "text/plain": [
       "<matplotlib.collections.PathCollection at 0x7f357505d908>"
      ]
     },
     "execution_count": 23,
     "metadata": {
      "tags": []
     },
     "output_type": "execute_result"
    },
    {
     "data": {
      "image/png": "[encoded data removed]",
      "text/plain": [
       "<Figure size 432x288 with 1 Axes>"
      ]
     },
     "metadata": {
      "needs_background": "light",
      "tags": []
     },
     "output_type": "display_data"
    }
   ],
   "source": [
    "plt.scatter(p_arr,pnl_arr)"
   ]
  },
  {
   "cell_type": "markdown",
   "metadata": {
    "id": "QE0Uu-FU6K0e"
   },
   "source": [
    "Approach 1 gives us a probability of success threshold of 0.6.\n",
    "\n",
    "Approach 2 gives us a probability of success threshold of 0.350603."
   ]
  },
  {
   "cell_type": "code",
   "execution_count": 24,
   "metadata": {
    "colab": {
     "base_uri": "https://localhost:8080/"
    },
    "executionInfo": {
     "elapsed": 117641,
     "status": "ok",
     "timestamp": 1607577704451,
     "user": {
      "displayName": "Sagar Mehta",
      "photoUrl": "",
      "userId": "03087367859835477034"
     },
     "user_tz": 300
    },
    "id": "BQgEDCho69Or",
    "outputId": "1912a65d-c0a6-4ae4-e157-8710c0528f65"
   },
   "outputs": [
    {
     "name": "stdout",
     "output_type": "stream",
     "text": [
      "The average probability threshold is: 0.4541\n"
     ]
    }
   ],
   "source": [
    "prob_threshold = (best_p + 0.6)/2\n",
    "print('The average probability threshold is:', round(prob_threshold,4))"
   ]
  },
  {
   "cell_type": "markdown",
   "metadata": {
    "id": "pU2A1I0OwtFv"
   },
   "source": [
    "## Competition"
   ]
  },
  {
   "cell_type": "code",
   "execution_count": 25,
   "metadata": {
    "colab": {
     "base_uri": "https://localhost:8080/",
     "height": 173
    },
    "executionInfo": {
     "elapsed": 117634,
     "status": "ok",
     "timestamp": 1607577704451,
     "user": {
      "displayName": "Sagar Mehta",
      "photoUrl": "",
      "userId": "03087367859835477034"
     },
     "user_tz": 300
    },
    "id": "a1TiYOniwtFv",
    "outputId": "69f72c78-0576-449b-fd17-a3854211b6e5"
   },
   "outputs": [
    {
     "data": {
      "text/html": [
       "<div>\n",
       "<style scoped>\n",
       "    .dataframe tbody tr th:only-of-type {\n",
       "        vertical-align: middle;\n",
       "    }\n",
       "\n",
       "    .dataframe tbody tr th {\n",
       "        vertical-align: top;\n",
       "    }\n",
       "\n",
       "    .dataframe thead th {\n",
       "        text-align: right;\n",
       "    }\n",
       "</style>\n",
       "<table border=\"1\" class=\"dataframe\">\n",
       "  <thead>\n",
       "    <tr style=\"text-align: right;\">\n",
       "      <th></th>\n",
       "      <th>Bond0</th>\n",
       "      <th>Bond1</th>\n",
       "      <th>Bond2</th>\n",
       "      <th>Side</th>\n",
       "      <th>Diff</th>\n",
       "      <th>Notional</th>\n",
       "      <th>Competitors</th>\n",
       "      <th>CP0</th>\n",
       "      <th>CP1</th>\n",
       "      <th>CP2</th>\n",
       "      <th>CP3</th>\n",
       "      <th>Traded</th>\n",
       "    </tr>\n",
       "    <tr>\n",
       "      <th>Time</th>\n",
       "      <th></th>\n",
       "      <th></th>\n",
       "      <th></th>\n",
       "      <th></th>\n",
       "      <th></th>\n",
       "      <th></th>\n",
       "      <th></th>\n",
       "      <th></th>\n",
       "      <th></th>\n",
       "      <th></th>\n",
       "      <th></th>\n",
       "      <th></th>\n",
       "    </tr>\n",
       "  </thead>\n",
       "  <tbody>\n",
       "    <tr>\n",
       "      <th>31003</th>\n",
       "      <td>0.0</td>\n",
       "      <td>0.0</td>\n",
       "      <td>1.0</td>\n",
       "      <td>-1.0</td>\n",
       "      <td>0.023412</td>\n",
       "      <td>1.000</td>\n",
       "      <td>0.50</td>\n",
       "      <td>0.0</td>\n",
       "      <td>1.0</td>\n",
       "      <td>0.0</td>\n",
       "      <td>0.0</td>\n",
       "      <td>NaN</td>\n",
       "    </tr>\n",
       "    <tr>\n",
       "      <th>31004</th>\n",
       "      <td>0.0</td>\n",
       "      <td>1.0</td>\n",
       "      <td>0.0</td>\n",
       "      <td>-1.0</td>\n",
       "      <td>0.010660</td>\n",
       "      <td>0.086</td>\n",
       "      <td>0.25</td>\n",
       "      <td>0.0</td>\n",
       "      <td>0.0</td>\n",
       "      <td>1.0</td>\n",
       "      <td>0.0</td>\n",
       "      <td>NaN</td>\n",
       "    </tr>\n",
       "    <tr>\n",
       "      <th>31008</th>\n",
       "      <td>1.0</td>\n",
       "      <td>0.0</td>\n",
       "      <td>0.0</td>\n",
       "      <td>1.0</td>\n",
       "      <td>0.895968</td>\n",
       "      <td>0.564</td>\n",
       "      <td>1.00</td>\n",
       "      <td>0.0</td>\n",
       "      <td>0.0</td>\n",
       "      <td>0.0</td>\n",
       "      <td>1.0</td>\n",
       "      <td>NaN</td>\n",
       "    </tr>\n",
       "  </tbody>\n",
       "</table>\n",
       "</div>"
      ],
      "text/plain": [
       "       Bond0  Bond1  Bond2  Side      Diff  ...  CP0  CP1  CP2  CP3  Traded\n",
       "Time                                        ...                            \n",
       "31003    0.0    0.0    1.0  -1.0  0.023412  ...  0.0  1.0  0.0  0.0     NaN\n",
       "31004    0.0    1.0    0.0  -1.0  0.010660  ...  0.0  0.0  1.0  0.0     NaN\n",
       "31008    1.0    0.0    0.0   1.0  0.895968  ...  0.0  0.0  0.0  1.0     NaN\n",
       "\n",
       "[3 rows x 12 columns]"
      ]
     },
     "execution_count": 25,
     "metadata": {
      "tags": []
     },
     "output_type": "execute_result"
    }
   ],
   "source": [
    "df_comp = clean(competition,features)\n",
    "df_comp[features] = df_comp[features]/normalize_ratio\n",
    "df_comp"
   ]
  },
  {
   "cell_type": "code",
   "execution_count": 26,
   "metadata": {
    "executionInfo": {
     "elapsed": 117632,
     "status": "ok",
     "timestamp": 1607577704452,
     "user": {
      "displayName": "Sagar Mehta",
      "photoUrl": "",
      "userId": "03087367859835477034"
     },
     "user_tz": 300
    },
    "id": "0vxQ7tSUqFT5"
   },
   "outputs": [],
   "source": [
    "# Iterate over values of diff to get the largest diff\n",
    "# that gives us a probability of success > 0.3506\n",
    "def getDiff(X,start_diff):\n",
    "  for val in np.arange(start_diff,0,-0.005):\n",
    "    print('Value being tested:', val)\n",
    "    X.iloc[0].Diff = val\n",
    "    prob = mlp2.predict_proba(X)[0][2]\n",
    "    if prob >= 0.3506:\n",
    "      return val\n",
    "  print('No diff value can satisfy requirement. Give a bad quote so that the RFQ does not transact.')"
   ]
  },
  {
   "cell_type": "markdown",
   "metadata": {
    "id": "Wv6wXi4iIcPW"
   },
   "source": [
    "$$ Diff = \\mid\\frac{QuotedPrice - MidPrice}{MidPrice}\\mid$$"
   ]
  },
  {
   "cell_type": "code",
   "execution_count": 27,
   "metadata": {
    "executionInfo": {
     "elapsed": 117631,
     "status": "ok",
     "timestamp": 1607577704453,
     "user": {
      "displayName": "Sagar Mehta",
      "photoUrl": "",
      "userId": "03087367859835477034"
     },
     "user_tz": 300
    },
    "id": "5QVCLiuBKsck"
   },
   "outputs": [],
   "source": [
    "# Compute the quoted price based on the given diff value\n",
    "def getPrice(time_index,diff):\n",
    "  df_comp['MidPrice'] = competition['MidPrice']\n",
    "  df_temp1 = df_comp[df_comp.index == time_index]\n",
    "  #print(df_temp1)\n",
    "  mid_p = df_temp1['MidPrice'].iloc[0]\n",
    "  #print(mid_p)\n",
    "  side = df_temp1['Side'].iloc[0]\n",
    "  #print(side)\n",
    "  quoted_price = (diff*normalize_ratio[4]/side)*mid_p + mid_p\n",
    "  \n",
    "  return quoted_price"
   ]
  },
  {
   "cell_type": "markdown",
   "metadata": {
    "id": "qZQP1z4yEzpm"
   },
   "source": [
    "First competition RFQ"
   ]
  },
  {
   "cell_type": "code",
   "execution_count": 28,
   "metadata": {
    "colab": {
     "base_uri": "https://localhost:8080/",
     "height": 111
    },
    "executionInfo": {
     "elapsed": 117626,
     "status": "ok",
     "timestamp": 1607577704454,
     "user": {
      "displayName": "Sagar Mehta",
      "photoUrl": "",
      "userId": "03087367859835477034"
     },
     "user_tz": 300
    },
    "id": "iviR12b7byLm",
    "outputId": "5f94f322-cd58-404e-f11a-9cccfbde0e63"
   },
   "outputs": [
    {
     "data": {
      "text/html": [
       "<div>\n",
       "<style scoped>\n",
       "    .dataframe tbody tr th:only-of-type {\n",
       "        vertical-align: middle;\n",
       "    }\n",
       "\n",
       "    .dataframe tbody tr th {\n",
       "        vertical-align: top;\n",
       "    }\n",
       "\n",
       "    .dataframe thead th {\n",
       "        text-align: right;\n",
       "    }\n",
       "</style>\n",
       "<table border=\"1\" class=\"dataframe\">\n",
       "  <thead>\n",
       "    <tr style=\"text-align: right;\">\n",
       "      <th></th>\n",
       "      <th>Bond0</th>\n",
       "      <th>Bond1</th>\n",
       "      <th>Bond2</th>\n",
       "      <th>Side</th>\n",
       "      <th>Diff</th>\n",
       "      <th>Notional</th>\n",
       "      <th>Competitors</th>\n",
       "      <th>CP0</th>\n",
       "      <th>CP1</th>\n",
       "      <th>CP2</th>\n",
       "      <th>CP3</th>\n",
       "    </tr>\n",
       "    <tr>\n",
       "      <th>Time</th>\n",
       "      <th></th>\n",
       "      <th></th>\n",
       "      <th></th>\n",
       "      <th></th>\n",
       "      <th></th>\n",
       "      <th></th>\n",
       "      <th></th>\n",
       "      <th></th>\n",
       "      <th></th>\n",
       "      <th></th>\n",
       "      <th></th>\n",
       "    </tr>\n",
       "  </thead>\n",
       "  <tbody>\n",
       "    <tr>\n",
       "      <th>31003</th>\n",
       "      <td>0.0</td>\n",
       "      <td>0.0</td>\n",
       "      <td>1.0</td>\n",
       "      <td>-1.0</td>\n",
       "      <td>0.02634</td>\n",
       "      <td>1.0</td>\n",
       "      <td>0.5</td>\n",
       "      <td>0.0</td>\n",
       "      <td>1.0</td>\n",
       "      <td>0.0</td>\n",
       "      <td>0.0</td>\n",
       "    </tr>\n",
       "  </tbody>\n",
       "</table>\n",
       "</div>"
      ],
      "text/plain": [
       "       Bond0  Bond1  Bond2  Side     Diff  ...  Competitors  CP0  CP1  CP2  CP3\n",
       "Time                                       ...                                 \n",
       "31003    0.0    0.0    1.0  -1.0  0.02634  ...          0.5  0.0  1.0  0.0  0.0\n",
       "\n",
       "[1 rows x 11 columns]"
      ]
     },
     "execution_count": 28,
     "metadata": {
      "tags": []
     },
     "output_type": "execute_result"
    }
   ],
   "source": [
    "X1 = df_comp[features][df_comp.index==31003].copy()\n",
    "X1.iloc[0].Diff = 0.02634\n",
    "X1"
   ]
  },
  {
   "cell_type": "code",
   "execution_count": 29,
   "metadata": {
    "colab": {
     "base_uri": "https://localhost:8080/"
    },
    "executionInfo": {
     "elapsed": 117607,
     "status": "ok",
     "timestamp": 1607577704454,
     "user": {
      "displayName": "Sagar Mehta",
      "photoUrl": "",
      "userId": "03087367859835477034"
     },
     "user_tz": 300
    },
    "id": "4CXm3AeKbzv5",
    "outputId": "50f14142-8d62-4d92-97d1-754f6c12fd30"
   },
   "outputs": [
    {
     "data": {
      "text/plain": [
       "0.2318803336461257"
      ]
     },
     "execution_count": 29,
     "metadata": {
      "tags": []
     },
     "output_type": "execute_result"
    }
   ],
   "source": [
    "mlp2.predict_proba(X1)[0][2]"
   ]
  },
  {
   "cell_type": "code",
   "execution_count": 30,
   "metadata": {
    "colab": {
     "base_uri": "https://localhost:8080/"
    },
    "executionInfo": {
     "elapsed": 117927,
     "status": "ok",
     "timestamp": 1607577704783,
     "user": {
      "displayName": "Sagar Mehta",
      "photoUrl": "",
      "userId": "03087367859835477034"
     },
     "user_tz": 300
    },
    "id": "jhx8dcbLCuN_",
    "outputId": "151a63de-3ff6-4a69-bd34-532b02bac979"
   },
   "outputs": [
    {
     "name": "stdout",
     "output_type": "stream",
     "text": [
      "Value being tested: 0.9\n",
      "Value being tested: 0.895\n",
      "Value being tested: 0.89\n",
      "Value being tested: 0.885\n",
      "Value being tested: 0.88\n",
      "Value being tested: 0.875\n",
      "Value being tested: 0.87\n",
      "Value being tested: 0.865\n",
      "Value being tested: 0.86\n",
      "Value being tested: 0.855\n",
      "Value being tested: 0.85\n",
      "Value being tested: 0.845\n",
      "Value being tested: 0.84\n",
      "Value being tested: 0.835\n",
      "Value being tested: 0.83\n",
      "Value being tested: 0.825\n",
      "Value being tested: 0.82\n",
      "Value being tested: 0.815\n",
      "Value being tested: 0.8099999999999999\n",
      "Value being tested: 0.8049999999999999\n",
      "Value being tested: 0.7999999999999999\n",
      "Value being tested: 0.7949999999999999\n",
      "Value being tested: 0.7899999999999999\n",
      "Value being tested: 0.7849999999999999\n",
      "Value being tested: 0.7799999999999999\n",
      "Value being tested: 0.7749999999999999\n",
      "Value being tested: 0.7699999999999999\n",
      "Value being tested: 0.7649999999999999\n",
      "Value being tested: 0.7599999999999999\n",
      "Value being tested: 0.7549999999999999\n",
      "Value being tested: 0.7499999999999999\n",
      "Value being tested: 0.7449999999999999\n",
      "Value being tested: 0.7399999999999999\n",
      "Value being tested: 0.7349999999999999\n",
      "Value being tested: 0.7299999999999999\n",
      "Value being tested: 0.7249999999999999\n",
      "Value being tested: 0.7199999999999999\n",
      "Value being tested: 0.7149999999999999\n",
      "Value being tested: 0.7099999999999999\n",
      "Value being tested: 0.7049999999999998\n",
      "Value being tested: 0.6999999999999998\n",
      "Value being tested: 0.6949999999999998\n",
      "Value being tested: 0.6899999999999998\n",
      "Value being tested: 0.6849999999999998\n",
      "Value being tested: 0.6799999999999998\n",
      "Value being tested: 0.6749999999999998\n",
      "Value being tested: 0.6699999999999998\n",
      "Value being tested: 0.6649999999999998\n",
      "Value being tested: 0.6599999999999998\n",
      "Value being tested: 0.6549999999999998\n",
      "Value being tested: 0.6499999999999998\n",
      "Value being tested: 0.6449999999999998\n",
      "Value being tested: 0.6399999999999998\n",
      "Value being tested: 0.6349999999999998\n",
      "Value being tested: 0.6299999999999998\n",
      "Value being tested: 0.6249999999999998\n",
      "Value being tested: 0.6199999999999998\n",
      "Value being tested: 0.6149999999999998\n",
      "Value being tested: 0.6099999999999998\n",
      "Value being tested: 0.6049999999999998\n",
      "Value being tested: 0.5999999999999998\n",
      "Value being tested: 0.5949999999999998\n",
      "Value being tested: 0.5899999999999997\n",
      "Value being tested: 0.5849999999999997\n",
      "Value being tested: 0.5799999999999997\n",
      "Value being tested: 0.5749999999999997\n",
      "Value being tested: 0.5699999999999997\n",
      "Value being tested: 0.5649999999999997\n",
      "Value being tested: 0.5599999999999997\n",
      "Value being tested: 0.5549999999999997\n",
      "Value being tested: 0.5499999999999997\n",
      "Value being tested: 0.5449999999999997\n",
      "Value being tested: 0.5399999999999997\n",
      "Value being tested: 0.5349999999999997\n",
      "Value being tested: 0.5299999999999997\n",
      "Value being tested: 0.5249999999999997\n",
      "Value being tested: 0.5199999999999997\n",
      "Value being tested: 0.5149999999999997\n",
      "Value being tested: 0.5099999999999997\n",
      "Value being tested: 0.5049999999999997\n",
      "Value being tested: 0.49999999999999967\n",
      "Value being tested: 0.49499999999999966\n",
      "Value being tested: 0.48999999999999966\n",
      "Value being tested: 0.48499999999999965\n",
      "Value being tested: 0.47999999999999965\n",
      "Value being tested: 0.47499999999999964\n",
      "Value being tested: 0.46999999999999964\n",
      "Value being tested: 0.46499999999999964\n",
      "Value being tested: 0.45999999999999963\n",
      "Value being tested: 0.4549999999999996\n",
      "Value being tested: 0.4499999999999996\n",
      "Value being tested: 0.4449999999999996\n",
      "Value being tested: 0.4399999999999996\n",
      "Value being tested: 0.4349999999999996\n",
      "Value being tested: 0.4299999999999996\n",
      "Value being tested: 0.4249999999999996\n",
      "Value being tested: 0.4199999999999996\n",
      "Value being tested: 0.4149999999999996\n",
      "Value being tested: 0.4099999999999996\n",
      "Value being tested: 0.4049999999999996\n",
      "Value being tested: 0.3999999999999996\n",
      "Value being tested: 0.3949999999999996\n",
      "Value being tested: 0.38999999999999957\n",
      "Value being tested: 0.38499999999999956\n",
      "Value being tested: 0.37999999999999956\n",
      "Value being tested: 0.37499999999999956\n",
      "Value being tested: 0.36999999999999955\n",
      "Value being tested: 0.36499999999999955\n",
      "Value being tested: 0.35999999999999954\n",
      "Value being tested: 0.35499999999999954\n",
      "Value being tested: 0.34999999999999953\n",
      "Value being tested: 0.34499999999999953\n",
      "Value being tested: 0.3399999999999995\n",
      "Value being tested: 0.3349999999999995\n",
      "Value being tested: 0.3299999999999995\n",
      "Value being tested: 0.3249999999999995\n",
      "Value being tested: 0.3199999999999995\n",
      "Value being tested: 0.3149999999999995\n",
      "Value being tested: 0.3099999999999995\n",
      "Value being tested: 0.3049999999999995\n",
      "Value being tested: 0.2999999999999995\n",
      "Value being tested: 0.2949999999999995\n",
      "Value being tested: 0.2899999999999995\n",
      "Value being tested: 0.2849999999999995\n",
      "Value being tested: 0.27999999999999947\n",
      "Value being tested: 0.27499999999999947\n",
      "Value being tested: 0.26999999999999946\n",
      "Value being tested: 0.26499999999999946\n",
      "Value being tested: 0.25999999999999945\n",
      "Value being tested: 0.25499999999999945\n",
      "Value being tested: 0.24999999999999944\n",
      "Value being tested: 0.24499999999999944\n",
      "Value being tested: 0.23999999999999944\n",
      "Value being tested: 0.23499999999999943\n",
      "Value being tested: 0.22999999999999943\n",
      "Value being tested: 0.22499999999999942\n",
      "Value being tested: 0.21999999999999942\n",
      "Value being tested: 0.2149999999999994\n",
      "Value being tested: 0.2099999999999994\n",
      "Value being tested: 0.2049999999999994\n",
      "Value being tested: 0.1999999999999994\n",
      "Value being tested: 0.1949999999999994\n",
      "Value being tested: 0.1899999999999994\n",
      "Value being tested: 0.1849999999999994\n",
      "Value being tested: 0.17999999999999938\n",
      "Value being tested: 0.17499999999999938\n",
      "Value being tested: 0.16999999999999937\n",
      "Value being tested: 0.16499999999999937\n",
      "Value being tested: 0.15999999999999936\n",
      "Value being tested: 0.15499999999999936\n",
      "Value being tested: 0.14999999999999936\n",
      "Value being tested: 0.14499999999999935\n",
      "Value being tested: 0.13999999999999935\n",
      "Value being tested: 0.13499999999999934\n",
      "Value being tested: 0.12999999999999934\n",
      "Value being tested: 0.12499999999999933\n",
      "Value being tested: 0.11999999999999933\n",
      "Value being tested: 0.11499999999999932\n",
      "Value being tested: 0.10999999999999932\n",
      "Value being tested: 0.10499999999999932\n",
      "Value being tested: 0.09999999999999931\n",
      "Value being tested: 0.09499999999999931\n",
      "Value being tested: 0.0899999999999993\n",
      "Value being tested: 0.0849999999999993\n",
      "Value being tested: 0.0799999999999993\n",
      "Value being tested: 0.07499999999999929\n",
      "Value being tested: 0.06999999999999929\n",
      "Value being tested: 0.06499999999999928\n",
      "Value being tested: 0.059999999999999276\n",
      "Value being tested: 0.05499999999999927\n",
      "Value being tested: 0.04999999999999927\n",
      "Value being tested: 0.04499999999999926\n",
      "Value being tested: 0.03999999999999926\n",
      "Value being tested: 0.034999999999999254\n",
      "Value being tested: 0.02999999999999925\n",
      "Value being tested: 0.024999999999999245\n",
      "Value being tested: 0.01999999999999924\n"
     ]
    },
    {
     "data": {
      "text/plain": [
       "0.01999999999999924"
      ]
     },
     "execution_count": 30,
     "metadata": {
      "tags": []
     },
     "output_type": "execute_result"
    }
   ],
   "source": [
    "getDiff(X1,start_diff=0.9)"
   ]
  },
  {
   "cell_type": "code",
   "execution_count": 31,
   "metadata": {
    "colab": {
     "base_uri": "https://localhost:8080/"
    },
    "executionInfo": {
     "elapsed": 117921,
     "status": "ok",
     "timestamp": 1607577704784,
     "user": {
      "displayName": "Sagar Mehta",
      "photoUrl": "",
      "userId": "03087367859835477034"
     },
     "user_tz": 300
    },
    "id": "ZAQ8PgIOQUmB",
    "outputId": "9df8079e-58f9-40d4-c2e2-207818641d0f"
   },
   "outputs": [
    {
     "name": "stdout",
     "output_type": "stream",
     "text": [
      "Our quoted price for Bond 2 is: 134.50229037019747\n"
     ]
    }
   ],
   "source": [
    "price1 = getPrice(time_index=31003,diff=0.022339999999999995)\n",
    "print('Our quoted price for Bond 2 is:', price1)"
   ]
  },
  {
   "cell_type": "markdown",
   "metadata": {
    "id": "b4jifiVMFCuQ"
   },
   "source": [
    "Second competition RFQ"
   ]
  },
  {
   "cell_type": "code",
   "execution_count": 32,
   "metadata": {
    "colab": {
     "base_uri": "https://localhost:8080/",
     "height": 111
    },
    "executionInfo": {
     "elapsed": 117915,
     "status": "ok",
     "timestamp": 1607577704785,
     "user": {
      "displayName": "Sagar Mehta",
      "photoUrl": "",
      "userId": "03087367859835477034"
     },
     "user_tz": 300
    },
    "id": "9Vk9nNd-b7Mf",
    "outputId": "4796ca28-3ab6-4d79-d382-6ac44856f88b"
   },
   "outputs": [
    {
     "data": {
      "text/html": [
       "<div>\n",
       "<style scoped>\n",
       "    .dataframe tbody tr th:only-of-type {\n",
       "        vertical-align: middle;\n",
       "    }\n",
       "\n",
       "    .dataframe tbody tr th {\n",
       "        vertical-align: top;\n",
       "    }\n",
       "\n",
       "    .dataframe thead th {\n",
       "        text-align: right;\n",
       "    }\n",
       "</style>\n",
       "<table border=\"1\" class=\"dataframe\">\n",
       "  <thead>\n",
       "    <tr style=\"text-align: right;\">\n",
       "      <th></th>\n",
       "      <th>Bond0</th>\n",
       "      <th>Bond1</th>\n",
       "      <th>Bond2</th>\n",
       "      <th>Side</th>\n",
       "      <th>Diff</th>\n",
       "      <th>Notional</th>\n",
       "      <th>Competitors</th>\n",
       "      <th>CP0</th>\n",
       "      <th>CP1</th>\n",
       "      <th>CP2</th>\n",
       "      <th>CP3</th>\n",
       "    </tr>\n",
       "    <tr>\n",
       "      <th>Time</th>\n",
       "      <th></th>\n",
       "      <th></th>\n",
       "      <th></th>\n",
       "      <th></th>\n",
       "      <th></th>\n",
       "      <th></th>\n",
       "      <th></th>\n",
       "      <th></th>\n",
       "      <th></th>\n",
       "      <th></th>\n",
       "      <th></th>\n",
       "    </tr>\n",
       "  </thead>\n",
       "  <tbody>\n",
       "    <tr>\n",
       "      <th>31004</th>\n",
       "      <td>0.0</td>\n",
       "      <td>1.0</td>\n",
       "      <td>0.0</td>\n",
       "      <td>-1.0</td>\n",
       "      <td>0.05034</td>\n",
       "      <td>0.086</td>\n",
       "      <td>0.25</td>\n",
       "      <td>0.0</td>\n",
       "      <td>0.0</td>\n",
       "      <td>1.0</td>\n",
       "      <td>0.0</td>\n",
       "    </tr>\n",
       "  </tbody>\n",
       "</table>\n",
       "</div>"
      ],
      "text/plain": [
       "       Bond0  Bond1  Bond2  Side     Diff  ...  Competitors  CP0  CP1  CP2  CP3\n",
       "Time                                       ...                                 \n",
       "31004    0.0    1.0    0.0  -1.0  0.05034  ...         0.25  0.0  0.0  1.0  0.0\n",
       "\n",
       "[1 rows x 11 columns]"
      ]
     },
     "execution_count": 32,
     "metadata": {
      "tags": []
     },
     "output_type": "execute_result"
    }
   ],
   "source": [
    "X2 = df_comp[features][df_comp.index==31004].copy()\n",
    "X2.iloc[0].Diff = 0.05034\n",
    "X2"
   ]
  },
  {
   "cell_type": "code",
   "execution_count": 33,
   "metadata": {
    "colab": {
     "base_uri": "https://localhost:8080/"
    },
    "executionInfo": {
     "elapsed": 117909,
     "status": "ok",
     "timestamp": 1607577704786,
     "user": {
      "displayName": "Sagar Mehta",
      "photoUrl": "",
      "userId": "03087367859835477034"
     },
     "user_tz": 300
    },
    "id": "yw4xWpINFQDB",
    "outputId": "6bbe3d68-4fd3-4b95-aff2-eb1a5f32e9c5"
   },
   "outputs": [
    {
     "data": {
      "text/plain": [
       "0.06277628963457763"
      ]
     },
     "execution_count": 33,
     "metadata": {
      "tags": []
     },
     "output_type": "execute_result"
    }
   ],
   "source": [
    "mlp2.predict_proba(X2)[0][2]"
   ]
  },
  {
   "cell_type": "code",
   "execution_count": 34,
   "metadata": {
    "colab": {
     "base_uri": "https://localhost:8080/"
    },
    "executionInfo": {
     "elapsed": 118240,
     "status": "ok",
     "timestamp": 1607577705123,
     "user": {
      "displayName": "Sagar Mehta",
      "photoUrl": "",
      "userId": "03087367859835477034"
     },
     "user_tz": 300
    },
    "id": "4ux134n1FqeA",
    "outputId": "29bc24dc-4837-4970-d85c-88257713c86a"
   },
   "outputs": [
    {
     "name": "stdout",
     "output_type": "stream",
     "text": [
      "Value being tested: 0.9\n",
      "Value being tested: 0.895\n",
      "Value being tested: 0.89\n",
      "Value being tested: 0.885\n",
      "Value being tested: 0.88\n",
      "Value being tested: 0.875\n",
      "Value being tested: 0.87\n",
      "Value being tested: 0.865\n",
      "Value being tested: 0.86\n",
      "Value being tested: 0.855\n",
      "Value being tested: 0.85\n",
      "Value being tested: 0.845\n",
      "Value being tested: 0.84\n",
      "Value being tested: 0.835\n",
      "Value being tested: 0.83\n",
      "Value being tested: 0.825\n",
      "Value being tested: 0.82\n",
      "Value being tested: 0.815\n",
      "Value being tested: 0.8099999999999999\n",
      "Value being tested: 0.8049999999999999\n",
      "Value being tested: 0.7999999999999999\n",
      "Value being tested: 0.7949999999999999\n",
      "Value being tested: 0.7899999999999999\n",
      "Value being tested: 0.7849999999999999\n",
      "Value being tested: 0.7799999999999999\n",
      "Value being tested: 0.7749999999999999\n",
      "Value being tested: 0.7699999999999999\n",
      "Value being tested: 0.7649999999999999\n",
      "Value being tested: 0.7599999999999999\n",
      "Value being tested: 0.7549999999999999\n",
      "Value being tested: 0.7499999999999999\n",
      "Value being tested: 0.7449999999999999\n",
      "Value being tested: 0.7399999999999999\n",
      "Value being tested: 0.7349999999999999\n",
      "Value being tested: 0.7299999999999999\n",
      "Value being tested: 0.7249999999999999\n",
      "Value being tested: 0.7199999999999999\n",
      "Value being tested: 0.7149999999999999\n",
      "Value being tested: 0.7099999999999999\n",
      "Value being tested: 0.7049999999999998\n",
      "Value being tested: 0.6999999999999998\n",
      "Value being tested: 0.6949999999999998\n",
      "Value being tested: 0.6899999999999998\n",
      "Value being tested: 0.6849999999999998\n",
      "Value being tested: 0.6799999999999998\n",
      "Value being tested: 0.6749999999999998\n",
      "Value being tested: 0.6699999999999998\n",
      "Value being tested: 0.6649999999999998\n",
      "Value being tested: 0.6599999999999998\n",
      "Value being tested: 0.6549999999999998\n",
      "Value being tested: 0.6499999999999998\n",
      "Value being tested: 0.6449999999999998\n",
      "Value being tested: 0.6399999999999998\n",
      "Value being tested: 0.6349999999999998\n",
      "Value being tested: 0.6299999999999998\n",
      "Value being tested: 0.6249999999999998\n",
      "Value being tested: 0.6199999999999998\n",
      "Value being tested: 0.6149999999999998\n",
      "Value being tested: 0.6099999999999998\n",
      "Value being tested: 0.6049999999999998\n",
      "Value being tested: 0.5999999999999998\n",
      "Value being tested: 0.5949999999999998\n",
      "Value being tested: 0.5899999999999997\n",
      "Value being tested: 0.5849999999999997\n",
      "Value being tested: 0.5799999999999997\n",
      "Value being tested: 0.5749999999999997\n",
      "Value being tested: 0.5699999999999997\n",
      "Value being tested: 0.5649999999999997\n",
      "Value being tested: 0.5599999999999997\n",
      "Value being tested: 0.5549999999999997\n",
      "Value being tested: 0.5499999999999997\n",
      "Value being tested: 0.5449999999999997\n",
      "Value being tested: 0.5399999999999997\n",
      "Value being tested: 0.5349999999999997\n",
      "Value being tested: 0.5299999999999997\n",
      "Value being tested: 0.5249999999999997\n",
      "Value being tested: 0.5199999999999997\n",
      "Value being tested: 0.5149999999999997\n",
      "Value being tested: 0.5099999999999997\n",
      "Value being tested: 0.5049999999999997\n",
      "Value being tested: 0.49999999999999967\n",
      "Value being tested: 0.49499999999999966\n",
      "Value being tested: 0.48999999999999966\n",
      "Value being tested: 0.48499999999999965\n",
      "Value being tested: 0.47999999999999965\n",
      "Value being tested: 0.47499999999999964\n",
      "Value being tested: 0.46999999999999964\n",
      "Value being tested: 0.46499999999999964\n",
      "Value being tested: 0.45999999999999963\n",
      "Value being tested: 0.4549999999999996\n",
      "Value being tested: 0.4499999999999996\n",
      "Value being tested: 0.4449999999999996\n",
      "Value being tested: 0.4399999999999996\n",
      "Value being tested: 0.4349999999999996\n",
      "Value being tested: 0.4299999999999996\n",
      "Value being tested: 0.4249999999999996\n",
      "Value being tested: 0.4199999999999996\n",
      "Value being tested: 0.4149999999999996\n",
      "Value being tested: 0.4099999999999996\n",
      "Value being tested: 0.4049999999999996\n",
      "Value being tested: 0.3999999999999996\n",
      "Value being tested: 0.3949999999999996\n",
      "Value being tested: 0.38999999999999957\n",
      "Value being tested: 0.38499999999999956\n",
      "Value being tested: 0.37999999999999956\n",
      "Value being tested: 0.37499999999999956\n",
      "Value being tested: 0.36999999999999955\n",
      "Value being tested: 0.36499999999999955\n",
      "Value being tested: 0.35999999999999954\n",
      "Value being tested: 0.35499999999999954\n",
      "Value being tested: 0.34999999999999953\n",
      "Value being tested: 0.34499999999999953\n",
      "Value being tested: 0.3399999999999995\n",
      "Value being tested: 0.3349999999999995\n",
      "Value being tested: 0.3299999999999995\n",
      "Value being tested: 0.3249999999999995\n",
      "Value being tested: 0.3199999999999995\n",
      "Value being tested: 0.3149999999999995\n",
      "Value being tested: 0.3099999999999995\n",
      "Value being tested: 0.3049999999999995\n",
      "Value being tested: 0.2999999999999995\n",
      "Value being tested: 0.2949999999999995\n",
      "Value being tested: 0.2899999999999995\n",
      "Value being tested: 0.2849999999999995\n",
      "Value being tested: 0.27999999999999947\n",
      "Value being tested: 0.27499999999999947\n",
      "Value being tested: 0.26999999999999946\n",
      "Value being tested: 0.26499999999999946\n",
      "Value being tested: 0.25999999999999945\n",
      "Value being tested: 0.25499999999999945\n",
      "Value being tested: 0.24999999999999944\n",
      "Value being tested: 0.24499999999999944\n",
      "Value being tested: 0.23999999999999944\n",
      "Value being tested: 0.23499999999999943\n",
      "Value being tested: 0.22999999999999943\n",
      "Value being tested: 0.22499999999999942\n",
      "Value being tested: 0.21999999999999942\n",
      "Value being tested: 0.2149999999999994\n",
      "Value being tested: 0.2099999999999994\n",
      "Value being tested: 0.2049999999999994\n",
      "Value being tested: 0.1999999999999994\n",
      "Value being tested: 0.1949999999999994\n",
      "Value being tested: 0.1899999999999994\n",
      "Value being tested: 0.1849999999999994\n",
      "Value being tested: 0.17999999999999938\n",
      "Value being tested: 0.17499999999999938\n",
      "Value being tested: 0.16999999999999937\n",
      "Value being tested: 0.16499999999999937\n",
      "Value being tested: 0.15999999999999936\n",
      "Value being tested: 0.15499999999999936\n",
      "Value being tested: 0.14999999999999936\n",
      "Value being tested: 0.14499999999999935\n",
      "Value being tested: 0.13999999999999935\n",
      "Value being tested: 0.13499999999999934\n",
      "Value being tested: 0.12999999999999934\n",
      "Value being tested: 0.12499999999999933\n",
      "Value being tested: 0.11999999999999933\n",
      "Value being tested: 0.11499999999999932\n",
      "Value being tested: 0.10999999999999932\n",
      "Value being tested: 0.10499999999999932\n",
      "Value being tested: 0.09999999999999931\n",
      "Value being tested: 0.09499999999999931\n",
      "Value being tested: 0.0899999999999993\n",
      "Value being tested: 0.0849999999999993\n",
      "Value being tested: 0.0799999999999993\n",
      "Value being tested: 0.07499999999999929\n",
      "Value being tested: 0.06999999999999929\n",
      "Value being tested: 0.06499999999999928\n",
      "Value being tested: 0.059999999999999276\n",
      "Value being tested: 0.05499999999999927\n",
      "Value being tested: 0.04999999999999927\n",
      "Value being tested: 0.04499999999999926\n",
      "Value being tested: 0.03999999999999926\n",
      "Value being tested: 0.034999999999999254\n",
      "Value being tested: 0.02999999999999925\n",
      "Value being tested: 0.024999999999999245\n",
      "Value being tested: 0.01999999999999924\n",
      "Value being tested: 0.014999999999999236\n",
      "Value being tested: 0.009999999999999232\n",
      "Value being tested: 0.004999999999999227\n",
      "No diff value can satisfy requirement. Give a bad quote so that the RFQ does not transact.\n"
     ]
    }
   ],
   "source": [
    "getDiff(X2,start_diff=0.9)"
   ]
  },
  {
   "cell_type": "code",
   "execution_count": 35,
   "metadata": {
    "colab": {
     "base_uri": "https://localhost:8080/"
    },
    "executionInfo": {
     "elapsed": 118234,
     "status": "ok",
     "timestamp": 1607577705123,
     "user": {
      "displayName": "Sagar Mehta",
      "photoUrl": "",
      "userId": "03087367859835477034"
     },
     "user_tz": 300
    },
    "id": "2gin8Q0YQxyV",
    "outputId": "a3e7b8cb-7e71-4ddd-871d-78082b64fe13"
   },
   "outputs": [
    {
     "name": "stdout",
     "output_type": "stream",
     "text": [
      "Our quoted price for Bond 1 is: 118.18060109612063\n"
     ]
    }
   ],
   "source": [
    "price2 = getPrice(time_index=31004,diff=0.01034)\n",
    "print('Our quoted price for Bond 1 is:', price2)"
   ]
  },
  {
   "cell_type": "markdown",
   "metadata": {
    "id": "LflrsREKGFLB"
   },
   "source": [
    "Third competition RFQ"
   ]
  },
  {
   "cell_type": "code",
   "execution_count": 36,
   "metadata": {
    "colab": {
     "base_uri": "https://localhost:8080/",
     "height": 111
    },
    "executionInfo": {
     "elapsed": 118664,
     "status": "ok",
     "timestamp": 1607577705560,
     "user": {
      "displayName": "Sagar Mehta",
      "photoUrl": "",
      "userId": "03087367859835477034"
     },
     "user_tz": 300
    },
    "id": "Y2QQuGHSGKiF",
    "outputId": "a499d600-e363-45dd-8aae-d5dcf58a22f6"
   },
   "outputs": [
    {
     "data": {
      "text/html": [
       "<div>\n",
       "<style scoped>\n",
       "    .dataframe tbody tr th:only-of-type {\n",
       "        vertical-align: middle;\n",
       "    }\n",
       "\n",
       "    .dataframe tbody tr th {\n",
       "        vertical-align: top;\n",
       "    }\n",
       "\n",
       "    .dataframe thead th {\n",
       "        text-align: right;\n",
       "    }\n",
       "</style>\n",
       "<table border=\"1\" class=\"dataframe\">\n",
       "  <thead>\n",
       "    <tr style=\"text-align: right;\">\n",
       "      <th></th>\n",
       "      <th>Bond0</th>\n",
       "      <th>Bond1</th>\n",
       "      <th>Bond2</th>\n",
       "      <th>Side</th>\n",
       "      <th>Diff</th>\n",
       "      <th>Notional</th>\n",
       "      <th>Competitors</th>\n",
       "      <th>CP0</th>\n",
       "      <th>CP1</th>\n",
       "      <th>CP2</th>\n",
       "      <th>CP3</th>\n",
       "    </tr>\n",
       "    <tr>\n",
       "      <th>Time</th>\n",
       "      <th></th>\n",
       "      <th></th>\n",
       "      <th></th>\n",
       "      <th></th>\n",
       "      <th></th>\n",
       "      <th></th>\n",
       "      <th></th>\n",
       "      <th></th>\n",
       "      <th></th>\n",
       "      <th></th>\n",
       "      <th></th>\n",
       "    </tr>\n",
       "  </thead>\n",
       "  <tbody>\n",
       "    <tr>\n",
       "      <th>31008</th>\n",
       "      <td>1.0</td>\n",
       "      <td>0.0</td>\n",
       "      <td>0.0</td>\n",
       "      <td>1.0</td>\n",
       "      <td>0.02869</td>\n",
       "      <td>0.564</td>\n",
       "      <td>1.0</td>\n",
       "      <td>0.0</td>\n",
       "      <td>0.0</td>\n",
       "      <td>0.0</td>\n",
       "      <td>1.0</td>\n",
       "    </tr>\n",
       "  </tbody>\n",
       "</table>\n",
       "</div>"
      ],
      "text/plain": [
       "       Bond0  Bond1  Bond2  Side     Diff  ...  Competitors  CP0  CP1  CP2  CP3\n",
       "Time                                       ...                                 \n",
       "31008    1.0    0.0    0.0   1.0  0.02869  ...          1.0  0.0  0.0  0.0  1.0\n",
       "\n",
       "[1 rows x 11 columns]"
      ]
     },
     "execution_count": 36,
     "metadata": {
      "tags": []
     },
     "output_type": "execute_result"
    }
   ],
   "source": [
    "X3 = df_comp[features][df_comp.index==31008].copy()\n",
    "X3.iloc[0].Diff = 0.02869\n",
    "X3"
   ]
  },
  {
   "cell_type": "code",
   "execution_count": 37,
   "metadata": {
    "colab": {
     "base_uri": "https://localhost:8080/"
    },
    "executionInfo": {
     "elapsed": 118659,
     "status": "ok",
     "timestamp": 1607577705561,
     "user": {
      "displayName": "Sagar Mehta",
      "photoUrl": "",
      "userId": "03087367859835477034"
     },
     "user_tz": 300
    },
    "id": "Xs3NHu1cGVk-",
    "outputId": "8bbe90be-290c-43b9-de3e-9593853d1bc9"
   },
   "outputs": [
    {
     "data": {
      "text/plain": [
       "0.28703881174222645"
      ]
     },
     "execution_count": 37,
     "metadata": {
      "tags": []
     },
     "output_type": "execute_result"
    }
   ],
   "source": [
    "mlp2.predict_proba(X3)[0][2]"
   ]
  },
  {
   "cell_type": "code",
   "execution_count": 38,
   "metadata": {
    "colab": {
     "base_uri": "https://localhost:8080/"
    },
    "executionInfo": {
     "elapsed": 119216,
     "status": "ok",
     "timestamp": 1607577706125,
     "user": {
      "displayName": "Sagar Mehta",
      "photoUrl": "",
      "userId": "03087367859835477034"
     },
     "user_tz": 300
    },
    "id": "9K3TE1nXGjw9",
    "outputId": "23a44e0f-0d50-4f60-8463-ad5c572da4b7"
   },
   "outputs": [
    {
     "name": "stdout",
     "output_type": "stream",
     "text": [
      "Value being tested: 0.9\n",
      "Value being tested: 0.895\n",
      "Value being tested: 0.89\n",
      "Value being tested: 0.885\n",
      "Value being tested: 0.88\n",
      "Value being tested: 0.875\n",
      "Value being tested: 0.87\n",
      "Value being tested: 0.865\n",
      "Value being tested: 0.86\n",
      "Value being tested: 0.855\n",
      "Value being tested: 0.85\n",
      "Value being tested: 0.845\n",
      "Value being tested: 0.84\n",
      "Value being tested: 0.835\n",
      "Value being tested: 0.83\n",
      "Value being tested: 0.825\n",
      "Value being tested: 0.82\n",
      "Value being tested: 0.815\n",
      "Value being tested: 0.8099999999999999\n",
      "Value being tested: 0.8049999999999999\n",
      "Value being tested: 0.7999999999999999\n",
      "Value being tested: 0.7949999999999999\n",
      "Value being tested: 0.7899999999999999\n",
      "Value being tested: 0.7849999999999999\n",
      "Value being tested: 0.7799999999999999\n",
      "Value being tested: 0.7749999999999999\n",
      "Value being tested: 0.7699999999999999\n",
      "Value being tested: 0.7649999999999999\n",
      "Value being tested: 0.7599999999999999\n",
      "Value being tested: 0.7549999999999999\n",
      "Value being tested: 0.7499999999999999\n",
      "Value being tested: 0.7449999999999999\n",
      "Value being tested: 0.7399999999999999\n",
      "Value being tested: 0.7349999999999999\n",
      "Value being tested: 0.7299999999999999\n",
      "Value being tested: 0.7249999999999999\n",
      "Value being tested: 0.7199999999999999\n",
      "Value being tested: 0.7149999999999999\n",
      "Value being tested: 0.7099999999999999\n",
      "Value being tested: 0.7049999999999998\n",
      "Value being tested: 0.6999999999999998\n",
      "Value being tested: 0.6949999999999998\n",
      "Value being tested: 0.6899999999999998\n",
      "Value being tested: 0.6849999999999998\n",
      "Value being tested: 0.6799999999999998\n",
      "Value being tested: 0.6749999999999998\n",
      "Value being tested: 0.6699999999999998\n",
      "Value being tested: 0.6649999999999998\n",
      "Value being tested: 0.6599999999999998\n",
      "Value being tested: 0.6549999999999998\n",
      "Value being tested: 0.6499999999999998\n",
      "Value being tested: 0.6449999999999998\n",
      "Value being tested: 0.6399999999999998\n",
      "Value being tested: 0.6349999999999998\n",
      "Value being tested: 0.6299999999999998\n",
      "Value being tested: 0.6249999999999998\n",
      "Value being tested: 0.6199999999999998\n",
      "Value being tested: 0.6149999999999998\n",
      "Value being tested: 0.6099999999999998\n",
      "Value being tested: 0.6049999999999998\n",
      "Value being tested: 0.5999999999999998\n",
      "Value being tested: 0.5949999999999998\n",
      "Value being tested: 0.5899999999999997\n",
      "Value being tested: 0.5849999999999997\n",
      "Value being tested: 0.5799999999999997\n",
      "Value being tested: 0.5749999999999997\n",
      "Value being tested: 0.5699999999999997\n",
      "Value being tested: 0.5649999999999997\n",
      "Value being tested: 0.5599999999999997\n",
      "Value being tested: 0.5549999999999997\n",
      "Value being tested: 0.5499999999999997\n",
      "Value being tested: 0.5449999999999997\n",
      "Value being tested: 0.5399999999999997\n",
      "Value being tested: 0.5349999999999997\n",
      "Value being tested: 0.5299999999999997\n",
      "Value being tested: 0.5249999999999997\n",
      "Value being tested: 0.5199999999999997\n",
      "Value being tested: 0.5149999999999997\n",
      "Value being tested: 0.5099999999999997\n",
      "Value being tested: 0.5049999999999997\n",
      "Value being tested: 0.49999999999999967\n",
      "Value being tested: 0.49499999999999966\n",
      "Value being tested: 0.48999999999999966\n",
      "Value being tested: 0.48499999999999965\n",
      "Value being tested: 0.47999999999999965\n",
      "Value being tested: 0.47499999999999964\n",
      "Value being tested: 0.46999999999999964\n",
      "Value being tested: 0.46499999999999964\n",
      "Value being tested: 0.45999999999999963\n",
      "Value being tested: 0.4549999999999996\n",
      "Value being tested: 0.4499999999999996\n",
      "Value being tested: 0.4449999999999996\n",
      "Value being tested: 0.4399999999999996\n",
      "Value being tested: 0.4349999999999996\n",
      "Value being tested: 0.4299999999999996\n",
      "Value being tested: 0.4249999999999996\n",
      "Value being tested: 0.4199999999999996\n",
      "Value being tested: 0.4149999999999996\n",
      "Value being tested: 0.4099999999999996\n",
      "Value being tested: 0.4049999999999996\n",
      "Value being tested: 0.3999999999999996\n",
      "Value being tested: 0.3949999999999996\n",
      "Value being tested: 0.38999999999999957\n",
      "Value being tested: 0.38499999999999956\n",
      "Value being tested: 0.37999999999999956\n",
      "Value being tested: 0.37499999999999956\n",
      "Value being tested: 0.36999999999999955\n",
      "Value being tested: 0.36499999999999955\n",
      "Value being tested: 0.35999999999999954\n",
      "Value being tested: 0.35499999999999954\n",
      "Value being tested: 0.34999999999999953\n",
      "Value being tested: 0.34499999999999953\n",
      "Value being tested: 0.3399999999999995\n",
      "Value being tested: 0.3349999999999995\n",
      "Value being tested: 0.3299999999999995\n",
      "Value being tested: 0.3249999999999995\n",
      "Value being tested: 0.3199999999999995\n",
      "Value being tested: 0.3149999999999995\n",
      "Value being tested: 0.3099999999999995\n",
      "Value being tested: 0.3049999999999995\n",
      "Value being tested: 0.2999999999999995\n",
      "Value being tested: 0.2949999999999995\n",
      "Value being tested: 0.2899999999999995\n",
      "Value being tested: 0.2849999999999995\n",
      "Value being tested: 0.27999999999999947\n",
      "Value being tested: 0.27499999999999947\n",
      "Value being tested: 0.26999999999999946\n",
      "Value being tested: 0.26499999999999946\n",
      "Value being tested: 0.25999999999999945\n",
      "Value being tested: 0.25499999999999945\n",
      "Value being tested: 0.24999999999999944\n",
      "Value being tested: 0.24499999999999944\n",
      "Value being tested: 0.23999999999999944\n",
      "Value being tested: 0.23499999999999943\n",
      "Value being tested: 0.22999999999999943\n",
      "Value being tested: 0.22499999999999942\n",
      "Value being tested: 0.21999999999999942\n",
      "Value being tested: 0.2149999999999994\n",
      "Value being tested: 0.2099999999999994\n",
      "Value being tested: 0.2049999999999994\n",
      "Value being tested: 0.1999999999999994\n",
      "Value being tested: 0.1949999999999994\n",
      "Value being tested: 0.1899999999999994\n",
      "Value being tested: 0.1849999999999994\n",
      "Value being tested: 0.17999999999999938\n",
      "Value being tested: 0.17499999999999938\n",
      "Value being tested: 0.16999999999999937\n",
      "Value being tested: 0.16499999999999937\n",
      "Value being tested: 0.15999999999999936\n",
      "Value being tested: 0.15499999999999936\n",
      "Value being tested: 0.14999999999999936\n",
      "Value being tested: 0.14499999999999935\n",
      "Value being tested: 0.13999999999999935\n",
      "Value being tested: 0.13499999999999934\n",
      "Value being tested: 0.12999999999999934\n",
      "Value being tested: 0.12499999999999933\n",
      "Value being tested: 0.11999999999999933\n",
      "Value being tested: 0.11499999999999932\n",
      "Value being tested: 0.10999999999999932\n",
      "Value being tested: 0.10499999999999932\n",
      "Value being tested: 0.09999999999999931\n",
      "Value being tested: 0.09499999999999931\n",
      "Value being tested: 0.0899999999999993\n",
      "Value being tested: 0.0849999999999993\n",
      "Value being tested: 0.0799999999999993\n",
      "Value being tested: 0.07499999999999929\n",
      "Value being tested: 0.06999999999999929\n",
      "Value being tested: 0.06499999999999928\n",
      "Value being tested: 0.059999999999999276\n",
      "Value being tested: 0.05499999999999927\n",
      "Value being tested: 0.04999999999999927\n",
      "Value being tested: 0.04499999999999926\n",
      "Value being tested: 0.03999999999999926\n",
      "Value being tested: 0.034999999999999254\n",
      "Value being tested: 0.02999999999999925\n",
      "Value being tested: 0.024999999999999245\n",
      "Value being tested: 0.01999999999999924\n"
     ]
    },
    {
     "data": {
      "text/plain": [
       "0.01999999999999924"
      ]
     },
     "execution_count": 38,
     "metadata": {
      "tags": []
     },
     "output_type": "execute_result"
    }
   ],
   "source": [
    "getDiff(X3,start_diff=0.9)"
   ]
  },
  {
   "cell_type": "code",
   "execution_count": 39,
   "metadata": {
    "colab": {
     "base_uri": "https://localhost:8080/"
    },
    "executionInfo": {
     "elapsed": 119211,
     "status": "ok",
     "timestamp": 1607577706126,
     "user": {
      "displayName": "Sagar Mehta",
      "photoUrl": "",
      "userId": "03087367859835477034"
     },
     "user_tz": 300
    },
    "id": "zbww9VxpPsqg",
    "outputId": "44ad7910-f267-4874-b115-872aa6cab41d"
   },
   "outputs": [
    {
     "name": "stdout",
     "output_type": "stream",
     "text": [
      "Our quoted price for Bond 0 is: 109.37971107791519\n"
     ]
    }
   ],
   "source": [
    "price3 = getPrice(time_index=31008,diff=0.01999999999999924)\n",
    "print('Our quoted price for Bond 0 is:', price3)"
   ]
  },
  {
   "cell_type": "markdown",
   "metadata": {
    "id": "4mjMP4jT7K5b"
   },
   "source": [
    "#Plots "
   ]
  },
  {
   "cell_type": "code",
   "execution_count": 40,
   "metadata": {
    "executionInfo": {
     "elapsed": 121648,
     "status": "ok",
     "timestamp": 1607577708564,
     "user": {
      "displayName": "Sagar Mehta",
      "photoUrl": "",
      "userId": "03087367859835477034"
     },
     "user_tz": 300
    },
    "id": "trYX9zergcn5"
   },
   "outputs": [],
   "source": [
    "df_comp = clean(competition,features,part=2)\n",
    "\n",
    "distances = np.arange(0,0.002,0.00001) # percent difference\n",
    "\n",
    "nontrade=np.zeros([len(distances),len(df_comp)])\n",
    "profit = np.zeros([len(distances),len(df_comp)])\n",
    "loss = np.zeros([len(distances),len(df_comp)])\n",
    "for i,dist in enumerate(distances):\n",
    "    temp = df_comp.copy()\n",
    "    temp.Diff = dist\n",
    "    temp[features] = temp[features]/normalize_ratio\n",
    "    X = temp[features].values\n",
    "    nontrade[i,:] = mlp2.predict_proba(X)[:,0]\n",
    "    profit[i,:] = mlp2.predict_proba(X)[:,2]\n",
    "    loss[i,:] = mlp2.predict_proba(X)[:,1]\n",
    "\n",
    "profit = pd.DataFrame(profit,index=distances,columns=[\"Bond 2\",\"Bond 1\",\"Bond 0\"])\n",
    "loss = pd.DataFrame(loss,index=distances,columns=[\"Bond 2\",\"Bond 1\",\"Bond 0\"])\n",
    "nontrade = pd.DataFrame(nontrade,index=distances,columns=[\"Bond 2\",\"Bond 1\",\"Bond 0\"])"
   ]
  },
  {
   "cell_type": "code",
   "execution_count": 41,
   "metadata": {
    "colab": {
     "base_uri": "https://localhost:8080/",
     "height": 421
    },
    "executionInfo": {
     "elapsed": 121645,
     "status": "ok",
     "timestamp": 1607577708569,
     "user": {
      "displayName": "Sagar Mehta",
      "photoUrl": "",
      "userId": "03087367859835477034"
     },
     "user_tz": 300
    },
    "id": "BldUOU72gpfS",
    "outputId": "b0052129-cc33-4979-80e4-b2500c2bdb08"
   },
   "outputs": [
    {
     "data": {
      "text/plain": [
       "Text(0.5, 0, 'Percent Difference of Quote and Mid Prices')"
      ]
     },
     "execution_count": 41,
     "metadata": {
      "tags": []
     },
     "output_type": "execute_result"
    },
    {
     "data": {
      "image/png": "[encoded data removed]",
      "text/plain": [
       "<Figure size 576x432 with 1 Axes>"
      ]
     },
     "metadata": {
      "needs_background": "light",
      "tags": []
     },
     "output_type": "display_data"
    }
   ],
   "source": [
    "profit.plot(figsize=(8,6),title=\"Probability of Winning a Trade and Profiting\")\n",
    "plt.xlabel('Percent Difference of Quote and Mid Prices')"
   ]
  },
  {
   "cell_type": "code",
   "execution_count": 42,
   "metadata": {
    "colab": {
     "base_uri": "https://localhost:8080/",
     "height": 80
    },
    "executionInfo": {
     "elapsed": 121639,
     "status": "ok",
     "timestamp": 1607577708570,
     "user": {
      "displayName": "Sagar Mehta",
      "photoUrl": "",
      "userId": "03087367859835477034"
     },
     "user_tz": 300
    },
    "id": "ZVALPGlag5_n",
    "outputId": "5d9ed1f3-e025-4681-a9db-4444c7cb02cf"
   },
   "outputs": [
    {
     "data": {
      "text/html": [
       "<div>\n",
       "<style scoped>\n",
       "    .dataframe tbody tr th:only-of-type {\n",
       "        vertical-align: middle;\n",
       "    }\n",
       "\n",
       "    .dataframe tbody tr th {\n",
       "        vertical-align: top;\n",
       "    }\n",
       "\n",
       "    .dataframe thead th {\n",
       "        text-align: right;\n",
       "    }\n",
       "</style>\n",
       "<table border=\"1\" class=\"dataframe\">\n",
       "  <thead>\n",
       "    <tr style=\"text-align: right;\">\n",
       "      <th></th>\n",
       "      <th>Bond 2</th>\n",
       "      <th>Bond 1</th>\n",
       "      <th>Bond 0</th>\n",
       "    </tr>\n",
       "  </thead>\n",
       "  <tbody>\n",
       "    <tr>\n",
       "      <th>0.00029</th>\n",
       "      <td>0.368688</td>\n",
       "      <td>0.073549</td>\n",
       "      <td>0.447872</td>\n",
       "    </tr>\n",
       "  </tbody>\n",
       "</table>\n",
       "</div>"
      ],
      "text/plain": [
       "           Bond 2    Bond 1    Bond 0\n",
       "0.00029  0.368688  0.073549  0.447872"
      ]
     },
     "execution_count": 42,
     "metadata": {
      "tags": []
     },
     "output_type": "execute_result"
    }
   ],
   "source": [
    "profit[profit[\"Bond 2\"] == profit[\"Bond 2\"].max()]"
   ]
  },
  {
   "cell_type": "code",
   "execution_count": 43,
   "metadata": {
    "colab": {
     "base_uri": "https://localhost:8080/",
     "height": 421
    },
    "executionInfo": {
     "elapsed": 122203,
     "status": "ok",
     "timestamp": 1607577709141,
     "user": {
      "displayName": "Sagar Mehta",
      "photoUrl": "",
      "userId": "03087367859835477034"
     },
     "user_tz": 300
    },
    "id": "2AN3d5qsg77V",
    "outputId": "59cad325-7aea-4541-cb16-c829316a377b"
   },
   "outputs": [
    {
     "data": {
      "text/plain": [
       "Text(0.5, 0, 'Percent Difference of Quote and Mid Prices')"
      ]
     },
     "execution_count": 43,
     "metadata": {
      "tags": []
     },
     "output_type": "execute_result"
    },
    {
     "data": {
      "image/png": "[encoded data removed]",
      "text/plain": [
       "<Figure size 576x432 with 1 Axes>"
      ]
     },
     "metadata": {
      "needs_background": "light",
      "tags": []
     },
     "output_type": "display_data"
    }
   ],
   "source": [
    "loss.plot(figsize=(8,6),title=\"Probability of Winning a Trade but Losing Money\")\n",
    "plt.xlabel('Percent Difference of Quote and Mid Prices')"
   ]
  },
  {
   "cell_type": "code",
   "execution_count": 44,
   "metadata": {
    "colab": {
     "base_uri": "https://localhost:8080/",
     "height": 80
    },
    "executionInfo": {
     "elapsed": 122198,
     "status": "ok",
     "timestamp": 1607577709142,
     "user": {
      "displayName": "Sagar Mehta",
      "photoUrl": "",
      "userId": "03087367859835477034"
     },
     "user_tz": 300
    },
    "id": "lLwmTF4phAic",
    "outputId": "ba53643f-9f39-44f7-ca19-26267acb7c4a"
   },
   "outputs": [
    {
     "data": {
      "text/html": [
       "<div>\n",
       "<style scoped>\n",
       "    .dataframe tbody tr th:only-of-type {\n",
       "        vertical-align: middle;\n",
       "    }\n",
       "\n",
       "    .dataframe tbody tr th {\n",
       "        vertical-align: top;\n",
       "    }\n",
       "\n",
       "    .dataframe thead th {\n",
       "        text-align: right;\n",
       "    }\n",
       "</style>\n",
       "<table border=\"1\" class=\"dataframe\">\n",
       "  <thead>\n",
       "    <tr style=\"text-align: right;\">\n",
       "      <th></th>\n",
       "      <th>Bond 2</th>\n",
       "      <th>Bond 1</th>\n",
       "      <th>Bond 0</th>\n",
       "    </tr>\n",
       "  </thead>\n",
       "  <tbody>\n",
       "    <tr>\n",
       "      <th>0.00042</th>\n",
       "      <td>0.119729</td>\n",
       "      <td>0.281837</td>\n",
       "      <td>0.696982</td>\n",
       "    </tr>\n",
       "  </tbody>\n",
       "</table>\n",
       "</div>"
      ],
      "text/plain": [
       "           Bond 2    Bond 1    Bond 0\n",
       "0.00042  0.119729  0.281837  0.696982"
      ]
     },
     "execution_count": 44,
     "metadata": {
      "tags": []
     },
     "output_type": "execute_result"
    }
   ],
   "source": [
    "loss[loss[\"Bond 0\"] == loss[\"Bond 0\"].max()]"
   ]
  },
  {
   "cell_type": "markdown",
   "metadata": {
    "id": "Kk5w9RjfhRWf"
   },
   "source": [
    "### Plot for our deliverable (Probability of fill as a function of difference from mid price for all 3 RFQs)"
   ]
  },
  {
   "cell_type": "code",
   "execution_count": 45,
   "metadata": {
    "executionInfo": {
     "elapsed": 122196,
     "status": "ok",
     "timestamp": 1607577709143,
     "user": {
      "displayName": "Sagar Mehta",
      "photoUrl": "",
      "userId": "03087367859835477034"
     },
     "user_tz": 300
    },
    "id": "EEBONEcfhG_i"
   },
   "outputs": [],
   "source": [
    "df_comp = clean(competition,features)"
   ]
  },
  {
   "cell_type": "code",
   "execution_count": 46,
   "metadata": {
    "colab": {
     "base_uri": "https://localhost:8080/"
    },
    "executionInfo": {
     "elapsed": 122190,
     "status": "ok",
     "timestamp": 1607577709143,
     "user": {
      "displayName": "Sagar Mehta",
      "photoUrl": "",
      "userId": "03087367859835477034"
     },
     "user_tz": 300
    },
    "id": "vQBzbMIYhXYg",
    "outputId": "2f997023-658b-4132-91d7-08c736fc8626"
   },
   "outputs": [
    {
     "data": {
      "text/plain": [
       "0.01587227487045406"
      ]
     },
     "execution_count": 46,
     "metadata": {
      "tags": []
     },
     "output_type": "execute_result"
    }
   ],
   "source": [
    "np.max(train.QuotedPrice/train.MidPrice-1) ## Maximum percent difference between Quote and Mid Price in training data"
   ]
  },
  {
   "cell_type": "code",
   "execution_count": 47,
   "metadata": {
    "executionInfo": {
     "elapsed": 123463,
     "status": "ok",
     "timestamp": 1607577710417,
     "user": {
      "displayName": "Sagar Mehta",
      "photoUrl": "",
      "userId": "03087367859835477034"
     },
     "user_tz": 300
    },
    "id": "cAGUYXC-hbRh"
   },
   "outputs": [],
   "source": [
    "distances = np.arange(0,0.002,0.00001) # percent difference\n",
    "probs = np.zeros([len(distances),len(df_comp)])\n",
    "for i,dist in enumerate(distances):\n",
    "    temp = df_comp.copy()\n",
    "    temp.Diff = dist\n",
    "    temp[features] = temp[features]/normalize_ratio\n",
    "    X = temp[features].values\n",
    "    probs[i,:] = mlp.predict_proba(X)[:,1]\n",
    "\n",
    "probs = pd.DataFrame(probs,index=distances,columns=[\"Bond 2\",\"Bond 1\",\"Bond 0\"])"
   ]
  },
  {
   "cell_type": "code",
   "execution_count": 48,
   "metadata": {
    "colab": {
     "base_uri": "https://localhost:8080/",
     "height": 367
    },
    "executionInfo": {
     "elapsed": 123804,
     "status": "ok",
     "timestamp": 1607577710764,
     "user": {
      "displayName": "Sagar Mehta",
      "photoUrl": "",
      "userId": "03087367859835477034"
     },
     "user_tz": 300
    },
    "id": "QNqX-LE6hfjh",
    "outputId": "c1c8bbdf-431a-476d-88d7-48acb35e191e"
   },
   "outputs": [
    {
     "data": {
      "text/plain": [
       "Text(0, 0.5, 'Probability of Trade Fill')"
      ]
     },
     "execution_count": 48,
     "metadata": {
      "tags": []
     },
     "output_type": "execute_result"
    },
    {
     "data": {
      "image/png": "[encoded data removed]",
      "text/plain": [
       "<Figure size 576x360 with 1 Axes>"
      ]
     },
     "metadata": {
      "needs_background": "light",
      "tags": []
     },
     "output_type": "display_data"
    }
   ],
   "source": [
    "probs.plot(figsize=(8,5),title=\"Probability of Trade Fill vs Percent Difference of Quote-Mid\")\n",
    "plt.xlabel('Percent Difference of Quote and Mid Prices'); plt.ylabel('Probability of Trade Fill')"
   ]
  },
  {
   "cell_type": "markdown",
   "metadata": {
    "id": "_cKSRisghp71"
   },
   "source": [
    "### Other plots"
   ]
  },
  {
   "cell_type": "code",
   "execution_count": 49,
   "metadata": {
    "executionInfo": {
     "elapsed": 123802,
     "status": "ok",
     "timestamp": 1607577710765,
     "user": {
      "displayName": "Sagar Mehta",
      "photoUrl": "",
      "userId": "03087367859835477034"
     },
     "user_tz": 300
    },
    "id": "tTOsR8ZP7NAE"
   },
   "outputs": [],
   "source": [
    "df = clean(train,features,part=1)\n",
    "df[features] = df[features]/normalize_ratio\n",
    "df_test = clean(test,features,part=1)\n",
    "df_test[features] = df_test[features]/normalize_ratio"
   ]
  },
  {
   "cell_type": "code",
   "execution_count": 50,
   "metadata": {
    "executionInfo": {
     "elapsed": 123801,
     "status": "ok",
     "timestamp": 1607577710765,
     "user": {
      "displayName": "Sagar Mehta",
      "photoUrl": "",
      "userId": "03087367859835477034"
     },
     "user_tz": 300
    },
    "id": "pGz9VkKZ7S1k"
   },
   "outputs": [],
   "source": [
    "X_train = df[features].values\n",
    "y_train = np.ravel(df[\"Traded\"].values)\n",
    "\n",
    "X_test = df_test[features].values\n",
    "y_test = np.ravel(df_test[\"Traded\"].values)"
   ]
  },
  {
   "cell_type": "code",
   "execution_count": 51,
   "metadata": {
    "colab": {
     "base_uri": "https://localhost:8080/"
    },
    "executionInfo": {
     "elapsed": 126183,
     "status": "ok",
     "timestamp": 1607577713153,
     "user": {
      "displayName": "Sagar Mehta",
      "photoUrl": "",
      "userId": "03087367859835477034"
     },
     "user_tz": 300
    },
    "id": "7BOK1O7s7S4D",
    "outputId": "d7743007-e7b9-491b-9ff3-427efbb3c79f"
   },
   "outputs": [
    {
     "name": "stdout",
     "output_type": "stream",
     "text": [
      "[[2193  216]\n",
      " [ 291 2300]]\n",
      "              precision    recall  f1-score   support\n",
      "\n",
      "           0       0.88      0.91      0.90      2409\n",
      "           1       0.91      0.89      0.90      2591\n",
      "\n",
      "    accuracy                           0.90      5000\n",
      "   macro avg       0.90      0.90      0.90      5000\n",
      "weighted avg       0.90      0.90      0.90      5000\n",
      "\n"
     ]
    }
   ],
   "source": [
    "mlp = MLPClassifier(hidden_layer_sizes=(9,18,9), activation='relu', solver='adam', max_iter=500)\n",
    "mlp.fit(X_train,y_train)\n",
    "\n",
    "predict_train = mlp.predict(X_train)\n",
    "predict_test = mlp.predict(X_test)\n",
    "print(confusion_matrix(y_train,predict_train))\n",
    "print(classification_report(y_train,predict_train))"
   ]
  },
  {
   "cell_type": "code",
   "execution_count": 52,
   "metadata": {
    "executionInfo": {
     "elapsed": 126183,
     "status": "ok",
     "timestamp": 1607577713154,
     "user": {
      "displayName": "Sagar Mehta",
      "photoUrl": "",
      "userId": "03087367859835477034"
     },
     "user_tz": 300
    },
    "id": "zV5vn0kz7Yda"
   },
   "outputs": [],
   "source": [
    "df_comp = clean(competition,features)\n",
    "df_comp[features] = df_comp[features]/normalize_ratio\n",
    "df_comp\n",
    "\n",
    "X_comp = df_comp[features].copy()"
   ]
  },
  {
   "cell_type": "markdown",
   "metadata": {
    "id": "bacA2IEr7l_5"
   },
   "source": [
    "## Probability of fill as a function of distance from mid price for RFQ 1:Bond_2"
   ]
  },
  {
   "cell_type": "code",
   "execution_count": 53,
   "metadata": {
    "colab": {
     "base_uri": "https://localhost:8080/",
     "height": 301
    },
    "executionInfo": {
     "elapsed": 126594,
     "status": "ok",
     "timestamp": 1607577713571,
     "user": {
      "displayName": "Sagar Mehta",
      "photoUrl": "",
      "userId": "03087367859835477034"
     },
     "user_tz": 300
    },
    "id": "X6e-u69Y7hkO",
    "outputId": "5360ac9b-fbb4-4df3-9533-aac7789a1af9"
   },
   "outputs": [
    {
     "data": {
      "image/png": "[encoded data removed]",
      "text/plain": [
       "<Figure size 432x288 with 1 Axes>"
      ]
     },
     "metadata": {
      "tags": []
     },
     "output_type": "display_data"
    }
   ],
   "source": [
    "rfq1 = X_comp[X_comp.index==31003].copy()\n",
    "# rfq1\n",
    "distances = np.arange(0.00,0.06,0.001)\n",
    "probs = np.zeros(distances.shape)\n",
    "\n",
    "for idx,dist in enumerate(distances):\n",
    "  rfq1.iloc[:,4] = dist\n",
    "  probs[idx] = mlp.predict_proba(rfq1)[:,1]\n",
    "\n",
    "# rfq1[features] = rfq1[features] * normalize_ratio\n",
    "# rfq1['Quoted'] = rfq1['Diff']\n",
    "# distances = distances * float(rfq1.iloc[:,5])\n",
    "\n",
    "distances = distances * normalize_ratio['Diff'] * (competition['MidPrice'].iloc[0])\n",
    "  # quoted_price = (diff*normalize_ratio[4]/side)*mid_p + mid_p\n",
    "st = sns.axes_style(\"darkgrid\")\n",
    "sns.set_theme()\n",
    "\n",
    "plt.plot(distances,probs)\n",
    "plt.xlabel(\"Absolute Distance From Mid (in cents)\")\n",
    "plt.ylabel(\"Probability of Winning Trade\")\n",
    "plt.title(\"RFQ 1: Bond_2\")\n",
    "plt.show()"
   ]
  },
  {
   "cell_type": "markdown",
   "metadata": {
    "id": "Gth4QylD_7Bf"
   },
   "source": [
    "# Probability of fill as a function of distance from mid price for RFQ 2: Bond_1"
   ]
  },
  {
   "cell_type": "code",
   "execution_count": 54,
   "metadata": {
    "colab": {
     "base_uri": "https://localhost:8080/",
     "height": 301
    },
    "executionInfo": {
     "elapsed": 126990,
     "status": "ok",
     "timestamp": 1607577713974,
     "user": {
      "displayName": "Sagar Mehta",
      "photoUrl": "",
      "userId": "03087367859835477034"
     },
     "user_tz": 300
    },
    "id": "M3RNxX4G8cSG",
    "outputId": "2683350d-f342-4179-a0f6-474de937d037"
   },
   "outputs": [
    {
     "data": {
      "image/png": "[encoded data removed]",
      "text/plain": [
       "<Figure size 432x288 with 1 Axes>"
      ]
     },
     "metadata": {
      "tags": []
     },
     "output_type": "display_data"
    }
   ],
   "source": [
    "rfq2 = X_comp[X_comp.index==31004].copy()\n",
    "distances = np.arange(0.00,0.06,0.001)\n",
    "probs = np.zeros(distances.shape)\n",
    "\n",
    "for idx,dist in enumerate(distances):\n",
    "  rfq2.iloc[:,4] = dist\n",
    "  probs[idx] = mlp.predict_proba(rfq2)[:,1]\n",
    "\n",
    "distances = distances * normalize_ratio['Diff'] * (competition['MidPrice'].iloc[1])\n",
    "st = sns.axes_style(\"darkgrid\")\n",
    "sns.set_theme()\n",
    "\n",
    "plt.plot(distances,probs)\n",
    "plt.xlabel(\"Absolute Distance From Mid (in cents)\")\n",
    "plt.ylabel(\"Probability of Winning Trade\")\n",
    "plt.title(\"RFQ 2: Bond_1\")\n",
    "plt.show()"
   ]
  },
  {
   "cell_type": "markdown",
   "metadata": {
    "id": "7dLa17C5AJ7z"
   },
   "source": [
    "# Probability of fill as a function of distance from mid price for RFQ 3: Bond_0"
   ]
  },
  {
   "cell_type": "code",
   "execution_count": 55,
   "metadata": {
    "colab": {
     "base_uri": "https://localhost:8080/",
     "height": 301
    },
    "executionInfo": {
     "elapsed": 127607,
     "status": "ok",
     "timestamp": 1607577714597,
     "user": {
      "displayName": "Sagar Mehta",
      "photoUrl": "",
      "userId": "03087367859835477034"
     },
     "user_tz": 300
    },
    "id": "868B4XuGAL9p",
    "outputId": "1032993d-a897-48cd-b4fd-8da6e8f6a1d8"
   },
   "outputs": [
    {
     "data": {
      "image/png": "[encoded data removed]",
      "text/plain": [
       "<Figure size 432x288 with 1 Axes>"
      ]
     },
     "metadata": {
      "tags": []
     },
     "output_type": "display_data"
    }
   ],
   "source": [
    "rfq3 = X_comp[X_comp.index==31008].copy()\n",
    "distances = np.arange(0.00,0.06,0.001)\n",
    "probs = np.zeros(distances.shape)\n",
    "\n",
    "for idx,dist in enumerate(distances):\n",
    "  rfq3.iloc[:,4] = dist\n",
    "  probs[idx] = mlp.predict_proba(rfq3)[:,1]\n",
    "\n",
    "distances = distances * normalize_ratio['Diff'] * (competition['MidPrice'].iloc[2])\n",
    "st = sns.axes_style(\"darkgrid\")\n",
    "sns.set_theme()\n",
    "\n",
    "plt.plot(distances,probs)\n",
    "plt.xlabel(\"Absolute Distance From Mid (in cents)\")\n",
    "plt.ylabel(\"Probability of Winning Trade\")\n",
    "plt.title(\"RFQ 3 : Bond_0\")\n",
    "plt.show()"
   ]
  },
  {
   "cell_type": "markdown",
   "metadata": {
    "id": "wi-ul3DkwtFN"
   },
   "source": [
    "References:  \n",
    "https://citeseerx.ist.psu.edu/viewdoc/download?doi=10.1.1.9.955&rep=rep1&type=pdf  \n",
    "https://www.diva-portal.org/smash/get/diva2:1319939/FULLTEXT03.pdf  \n",
    "https://www.askpython.com/python/examples/naive-bayes-classifier#:~:text=Naive%20Bayes%20Classifier%20with%20Python%20Na%C3%AFve%20Bayes%20Classifier,class%20label%20this%20new%20data%20instance%20belongs%20to.  \n",
    "https://www.askpython.com/python/examples/naive-bayes-classifier#:~:text=Naive%20Bayes%20Classifier%20with%20Python%20Na%C3%AFve%20Bayes%20Classifier,class%20label%20this%20new%20data%20instance%20belongs%20to.  \n",
    "https://machinelearningmastery.com/naive-bayes-classifier-scratch-python/  \n",
    "https://www.codespeedy.com/naive-bayes-algorithm-in-python/\n",
    "\n",
    "https://scikit-learn.org/stable/modules/generated/sklearn.preprocessing.normalize.html  \n",
    "https://scikit-learn.org/stable/supervised_learning.html#supervised-learning\n",
    "\n",
    "https://www.pluralsight.com/guides/classification-keras  \n",
    "https://www.pluralsight.com/guides/machine-learning-neural-networks-scikit-learn  \n",
    "https://www.springboard.com/blog/beginners-guide-neural-network-in-python-scikit-learn-0-18/"
   ]
  }
 ],
 "metadata": {
  "colab": {
   "collapsed_sections": [],
   "name": "RFQAssignment.ipynb",
   "provenance": []
  },
  "kernelspec": {
   "display_name": "Python 3",
   "language": "python",
   "name": "python3"
  },
  "language_info": {
   "codemirror_mode": {
    "name": "ipython",
    "version": 3
   },
   "file_extension": ".py",
   "mimetype": "text/x-python",
   "name": "python",
   "nbconvert_exporter": "python",
   "pygments_lexer": "ipython3",
   "version": "3.8.3"
  }
 },
 "nbformat": 4,
 "nbformat_minor": 1
}
